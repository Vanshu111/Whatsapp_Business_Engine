{
 "cells": [
  {
   "cell_type": "code",
   "execution_count": 8,
   "id": "34523417",
   "metadata": {},
   "outputs": [],
   "source": [
    "!cd C:\\Users\\TIF-AWaDH\\Downloads\\Transformer"
   ]
  },
  {
   "cell_type": "code",
   "execution_count": 9,
   "id": "1c9f8b91",
   "metadata": {},
   "outputs": [],
   "source": [
    "!python -m venv mistral-gpu-env"
   ]
  },
  {
   "cell_type": "code",
   "execution_count": 11,
   "id": "9303e11b",
   "metadata": {},
   "outputs": [],
   "source": [
    "!.\\mistral-gpu-env\\Scripts\\activate"
   ]
  },
  {
   "cell_type": "code",
   "execution_count": 1,
   "id": "1b410127",
   "metadata": {},
   "outputs": [
    {
     "name": "stderr",
     "output_type": "stream",
     "text": [
      "WARNING: Skipping torch as it is not installed.\n",
      "WARNING: Skipping torchvision as it is not installed.\n",
      "WARNING: Skipping torchaudio as it is not installed.\n"
     ]
    }
   ],
   "source": [
    "!pip uninstall -y torch torchvision torchaudio"
   ]
  },
  {
   "cell_type": "code",
   "execution_count": 2,
   "id": "fdfed2ac",
   "metadata": {},
   "outputs": [
    {
     "name": "stdout",
     "output_type": "stream",
     "text": [
      "Python 3.9.0\n"
     ]
    }
   ],
   "source": [
    "!python --version\n",
    " \n"
   ]
  },
  {
   "cell_type": "code",
   "execution_count": 1,
   "id": "e159bc53",
   "metadata": {},
   "outputs": [
    {
     "name": "stdout",
     "output_type": "stream",
     "text": [
      "Installed kernelspec mistral-310 in C:\\Users\\TIF-AWaDH\\AppData\\Roaming\\jupyter\\kernels\\mistral-310\n"
     ]
    }
   ],
   "source": [
    "!python -m ipykernel install --user --name=mistral-310 --display-name \"Python (mistral-310)\"\n"
   ]
  },
  {
   "cell_type": "code",
   "execution_count": 2,
   "id": "0d8b4fa5",
   "metadata": {},
   "outputs": [
    {
     "name": "stdout",
     "output_type": "stream",
     "text": [
      "Defaulting to user installation because normal site-packages is not writeable\n",
      "Looking in indexes: https://download.pytorch.org/whl/cu118\n",
      "Requirement already satisfied: torch in c:\\users\\tif-awadh\\appdata\\roaming\\python\\python313\\site-packages (2.7.1+cu118)\n",
      "Requirement already satisfied: torchvision in c:\\users\\tif-awadh\\appdata\\roaming\\python\\python313\\site-packages (0.22.1+cu118)\n",
      "Requirement already satisfied: torchaudio in c:\\users\\tif-awadh\\appdata\\roaming\\python\\python313\\site-packages (2.7.1+cu118)\n",
      "Requirement already satisfied: filelock in c:\\users\\tif-awadh\\appdata\\roaming\\python\\python313\\site-packages (from torch) (3.18.0)\n",
      "Requirement already satisfied: typing-extensions>=4.10.0 in c:\\users\\tif-awadh\\appdata\\roaming\\python\\python313\\site-packages (from torch) (4.14.1)\n",
      "Requirement already satisfied: sympy>=1.13.3 in c:\\users\\tif-awadh\\appdata\\roaming\\python\\python313\\site-packages (from torch) (1.14.0)\n",
      "Requirement already satisfied: networkx in c:\\users\\tif-awadh\\appdata\\roaming\\python\\python313\\site-packages (from torch) (3.5)\n",
      "Requirement already satisfied: jinja2 in c:\\users\\tif-awadh\\appdata\\roaming\\python\\python313\\site-packages (from torch) (3.1.6)\n",
      "Requirement already satisfied: fsspec in c:\\users\\tif-awadh\\appdata\\roaming\\python\\python313\\site-packages (from torch) (2025.3.0)\n",
      "Requirement already satisfied: setuptools in c:\\users\\tif-awadh\\appdata\\roaming\\python\\python313\\site-packages (from torch) (80.9.0)\n",
      "Requirement already satisfied: numpy in c:\\users\\tif-awadh\\appdata\\roaming\\python\\python313\\site-packages (from torchvision) (2.3.1)\n",
      "Requirement already satisfied: pillow!=8.3.*,>=5.3.0 in c:\\users\\tif-awadh\\appdata\\roaming\\python\\python313\\site-packages (from torchvision) (11.2.1)\n",
      "Requirement already satisfied: mpmath<1.4,>=1.1.0 in c:\\users\\tif-awadh\\appdata\\roaming\\python\\python313\\site-packages (from sympy>=1.13.3->torch) (1.3.0)\n",
      "Requirement already satisfied: MarkupSafe>=2.0 in c:\\users\\tif-awadh\\appdata\\roaming\\python\\python313\\site-packages (from jinja2->torch) (3.0.2)\n"
     ]
    }
   ],
   "source": [
    "!pip install --prefer-binary torch torchvision torchaudio --index-url https://download.pytorch.org/whl/cu118"
   ]
  },
  {
   "cell_type": "code",
   "execution_count": 4,
   "id": "e632edf3",
   "metadata": {},
   "outputs": [
    {
     "name": "stdout",
     "output_type": "stream",
     "text": [
      "Requirement already satisfied: pip in c:\\users\\tif-awadh\\appdata\\local\\programs\\python\\python39\\lib\\site-packages (25.1.1)\n",
      "Requirement already satisfied: setuptools in c:\\users\\tif-awadh\\appdata\\local\\programs\\python\\python39\\lib\\site-packages (67.6.1)\n",
      "Collecting setuptools\n",
      "  Downloading setuptools-80.9.0-py3-none-any.whl.metadata (6.6 kB)\n",
      "Requirement already satisfied: wheel in c:\\users\\tif-awadh\\appdata\\local\\programs\\python\\python39\\lib\\site-packages (0.40.0)\n",
      "Collecting wheel\n",
      "  Downloading wheel-0.45.1-py3-none-any.whl.metadata (2.3 kB)\n",
      "Downloading setuptools-80.9.0-py3-none-any.whl (1.2 MB)\n",
      "   ---------------------------------------- 0.0/1.2 MB ? eta -:--:--\n",
      "   ---------------------------------------- 0.0/1.2 MB ? eta -:--:--\n",
      "   ---------------------------------------- 0.0/1.2 MB ? eta -:--:--\n",
      "   ---------------------------------------- 0.0/1.2 MB ? eta -:--:--\n",
      "   ---------------------------------------- 0.0/1.2 MB ? eta -:--:--\n",
      "   -------- ------------------------------- 0.3/1.2 MB ? eta -:--:--\n",
      "   -------- ------------------------------- 0.3/1.2 MB ? eta -:--:--\n",
      "   -------- ------------------------------- 0.3/1.2 MB ? eta -:--:--\n",
      "   ----------------- ---------------------- 0.5/1.2 MB 524.3 kB/s eta 0:00:02\n",
      "   ----------------- ---------------------- 0.5/1.2 MB 524.3 kB/s eta 0:00:02\n",
      "   -------------------------- ------------- 0.8/1.2 MB 559.5 kB/s eta 0:00:01\n",
      "   ---------------------------------- ----- 1.0/1.2 MB 599.4 kB/s eta 0:00:01\n",
      "   ---------------------------------- ----- 1.0/1.2 MB 599.4 kB/s eta 0:00:01\n",
      "   ---------------------------------- ----- 1.0/1.2 MB 599.4 kB/s eta 0:00:01\n",
      "   ---------------------------------------- 1.2/1.2 MB 532.2 kB/s eta 0:00:00\n",
      "Downloading wheel-0.45.1-py3-none-any.whl (72 kB)\n",
      "Installing collected packages: wheel, setuptools\n",
      "\n",
      "  Attempting uninstall: wheel\n",
      "\n",
      "    Found existing installation: wheel 0.40.0\n",
      "\n",
      "    Uninstalling wheel-0.40.0:\n",
      "\n",
      "      Successfully uninstalled wheel-0.40.0\n",
      "\n",
      "   ---------------------------------------- 0/2 [wheel]\n",
      "   ---------------------------------------- 0/2 [wheel]\n",
      "  Attempting uninstall: setuptools\n",
      "   ---------------------------------------- 0/2 [wheel]\n",
      "    Found existing installation: setuptools 67.6.1\n",
      "   ---------------------------------------- 0/2 [wheel]\n",
      "    Uninstalling setuptools-67.6.1:\n",
      "   ---------------------------------------- 0/2 [wheel]\n",
      "   -------------------- ------------------- 1/2 [setuptools]\n",
      "   -------------------- ------------------- 1/2 [setuptools]\n",
      "   -------------------- ------------------- 1/2 [setuptools]\n",
      "   -------------------- ------------------- 1/2 [setuptools]\n",
      "   -------------------- ------------------- 1/2 [setuptools]\n",
      "   -------------------- ------------------- 1/2 [setuptools]\n",
      "   -------------------- ------------------- 1/2 [setuptools]\n",
      "   -------------------- ------------------- 1/2 [setuptools]\n",
      "   -------------------- ------------------- 1/2 [setuptools]\n",
      "   -------------------- ------------------- 1/2 [setuptools]\n",
      "   -------------------- ------------------- 1/2 [setuptools]\n",
      "   -------------------- ------------------- 1/2 [setuptools]\n",
      "   -------------------- ------------------- 1/2 [setuptools]\n",
      "   -------------------- ------------------- 1/2 [setuptools]\n",
      "      Successfully uninstalled setuptools-67.6.1\n",
      "   -------------------- ------------------- 1/2 [setuptools]\n",
      "   -------------------- ------------------- 1/2 [setuptools]\n",
      "   -------------------- ------------------- 1/2 [setuptools]\n",
      "   -------------------- ------------------- 1/2 [setuptools]\n",
      "   -------------------- ------------------- 1/2 [setuptools]\n",
      "   -------------------- ------------------- 1/2 [setuptools]\n",
      "   -------------------- ------------------- 1/2 [setuptools]\n",
      "   -------------------- ------------------- 1/2 [setuptools]\n",
      "   -------------------- ------------------- 1/2 [setuptools]\n",
      "   -------------------- ------------------- 1/2 [setuptools]\n",
      "   -------------------- ------------------- 1/2 [setuptools]\n",
      "   -------------------- ------------------- 1/2 [setuptools]\n",
      "   -------------------- ------------------- 1/2 [setuptools]\n",
      "   -------------------- ------------------- 1/2 [setuptools]\n",
      "   -------------------- ------------------- 1/2 [setuptools]\n",
      "   -------------------- ------------------- 1/2 [setuptools]\n",
      "   -------------------- ------------------- 1/2 [setuptools]\n",
      "   -------------------- ------------------- 1/2 [setuptools]\n",
      "   -------------------- ------------------- 1/2 [setuptools]\n",
      "   ---------------------------------------- 2/2 [setuptools]\n",
      "\n",
      "Successfully installed setuptools-80.9.0 wheel-0.45.1\n"
     ]
    },
    {
     "name": "stderr",
     "output_type": "stream",
     "text": [
      "WARNING: Ignoring invalid distribution -pencv-python-headless (c:\\users\\tif-awadh\\appdata\\roaming\\python\\python39\\site-packages)\n",
      "WARNING: Ignoring invalid distribution -pencv-python-headless (c:\\users\\tif-awadh\\appdata\\roaming\\python\\python39\\site-packages)\n",
      "WARNING: Ignoring invalid distribution -illow (c:\\users\\tif-awadh\\appdata\\local\\programs\\python\\python39\\lib\\site-packages)\n",
      "WARNING: Ignoring invalid distribution -rotobuf (c:\\users\\tif-awadh\\appdata\\local\\programs\\python\\python39\\lib\\site-packages)\n",
      "WARNING: Ignoring invalid distribution -pencv-python-headless (c:\\users\\tif-awadh\\appdata\\roaming\\python\\python39\\site-packages)\n",
      "WARNING: Ignoring invalid distribution -illow (c:\\users\\tif-awadh\\appdata\\local\\programs\\python\\python39\\lib\\site-packages)\n",
      "WARNING: Ignoring invalid distribution -rotobuf (c:\\users\\tif-awadh\\appdata\\local\\programs\\python\\python39\\lib\\site-packages)\n",
      "    WARNING: Ignoring invalid distribution -pencv-python-headless (c:\\users\\tif-awadh\\appdata\\roaming\\python\\python39\\site-packages)\n",
      "    WARNING: Ignoring invalid distribution -pencv-python-headless (c:\\users\\tif-awadh\\appdata\\roaming\\python\\python39\\site-packages)\n",
      "WARNING: Ignoring invalid distribution -illow (c:\\users\\tif-awadh\\appdata\\local\\programs\\python\\python39\\lib\\site-packages)\n",
      "WARNING: Ignoring invalid distribution -rotobuf (c:\\users\\tif-awadh\\appdata\\local\\programs\\python\\python39\\lib\\site-packages)\n",
      "WARNING: Ignoring invalid distribution -pencv-python-headless (c:\\users\\tif-awadh\\appdata\\roaming\\python\\python39\\site-packages)\n",
      "WARNING: Ignoring invalid distribution -pencv-python-headless (c:\\users\\tif-awadh\\appdata\\roaming\\python\\python39\\site-packages)\n"
     ]
    }
   ],
   "source": [
    "!python -m pip install --upgrade pip setuptools wheel\n"
   ]
  },
  {
   "cell_type": "code",
   "execution_count": 5,
   "id": "9b673e21",
   "metadata": {},
   "outputs": [
    {
     "name": "stdout",
     "output_type": "stream",
     "text": [
      "Defaulting to user installation because normal site-packages is not writeable\n",
      "Looking in indexes: https://download.pytorch.org/whl/cu121\n"
     ]
    },
    {
     "name": "stderr",
     "output_type": "stream",
     "text": [
      "ERROR: Could not find a version that satisfies the requirement torch (from versions: none)\n",
      "ERROR: No matching distribution found for torch\n"
     ]
    }
   ],
   "source": [
    "!pip install torch torchvision torchaudio --index-url https://download.pytorch.org/whl/cu121"
   ]
  },
  {
   "cell_type": "code",
   "execution_count": 1,
   "id": "be7b0ed1",
   "metadata": {},
   "outputs": [
    {
     "name": "stderr",
     "output_type": "stream",
     "text": [
      "The directory name is invalid.\n"
     ]
    }
   ],
   "source": [
    "!cd C:\\Users\\TIF-AWaDH\\Downloads\\Transformer\\mistral-310\\Scripts\\activate.ps1"
   ]
  },
  {
   "cell_type": "code",
   "execution_count": 1,
   "id": "191f2231",
   "metadata": {},
   "outputs": [
    {
     "name": "stdout",
     "output_type": "stream",
     "text": [
      "Torch version: 2.1.2+cu118\n",
      "CUDA available: True\n",
      "CUDA version: 11.8\n",
      "Device name: NVIDIA GeForce RTX 3090\n"
     ]
    }
   ],
   "source": [
    "import torch\n",
    "print(\"Torch version:\", torch.__version__)\n",
    "print(\"CUDA available:\", torch.cuda.is_available())\n",
    "print(\"CUDA version:\", torch.version.cuda)\n",
    "print(\"Device name:\", torch.cuda.get_device_name(0) if torch.cuda.is_available() else \"No GPU detected\")\n",
    "\n"
   ]
  },
  {
   "cell_type": "code",
   "execution_count": 1,
   "id": "f6b174fc",
   "metadata": {},
   "outputs": [
    {
     "name": "stdout",
     "output_type": "stream",
     "text": [
      "Requirement already satisfied: transformers==4.39.3 in c:\\users\\tif-awadh\\downloads\\transformer\\mistral-310\\lib\\site-packages (from -r requirements.txt (line 1)) (4.39.3)\n",
      "Requirement already satisfied: trl==0.8.6 in c:\\users\\tif-awadh\\downloads\\transformer\\mistral-310\\lib\\site-packages (from -r requirements.txt (line 2)) (0.8.6)\n",
      "Requirement already satisfied: peft==0.8.2 in c:\\users\\tif-awadh\\downloads\\transformer\\mistral-310\\lib\\site-packages (from -r requirements.txt (line 3)) (0.8.2)\n",
      "Requirement already satisfied: accelerate==0.27.2 in c:\\users\\tif-awadh\\downloads\\transformer\\mistral-310\\lib\\site-packages (from -r requirements.txt (line 4)) (0.27.2)\n",
      "Requirement already satisfied: datasets==4.0.0 in c:\\users\\tif-awadh\\downloads\\transformer\\mistral-310\\lib\\site-packages (from -r requirements.txt (line 5)) (4.0.0)\n",
      "Requirement already satisfied: numpy==1.26.4 in c:\\users\\tif-awadh\\downloads\\transformer\\mistral-310\\lib\\site-packages (from -r requirements.txt (line 6)) (1.26.4)\n",
      "Requirement already satisfied: huggingface-hub<1.0,>=0.19.3 in c:\\users\\tif-awadh\\downloads\\transformer\\mistral-310\\lib\\site-packages (from transformers==4.39.3->-r requirements.txt (line 1)) (0.33.4)\n",
      "Requirement already satisfied: packaging>=20.0 in c:\\users\\tif-awadh\\downloads\\transformer\\mistral-310\\lib\\site-packages (from transformers==4.39.3->-r requirements.txt (line 1)) (25.0)\n",
      "Requirement already satisfied: filelock in c:\\users\\tif-awadh\\downloads\\transformer\\mistral-310\\lib\\site-packages (from transformers==4.39.3->-r requirements.txt (line 1)) (3.18.0)\n",
      "Requirement already satisfied: pyyaml>=5.1 in c:\\users\\tif-awadh\\downloads\\transformer\\mistral-310\\lib\\site-packages (from transformers==4.39.3->-r requirements.txt (line 1)) (6.0.2)\n",
      "Requirement already satisfied: regex!=2019.12.17 in c:\\users\\tif-awadh\\downloads\\transformer\\mistral-310\\lib\\site-packages (from transformers==4.39.3->-r requirements.txt (line 1)) (2024.11.6)\n",
      "Requirement already satisfied: tqdm>=4.27 in c:\\users\\tif-awadh\\downloads\\transformer\\mistral-310\\lib\\site-packages (from transformers==4.39.3->-r requirements.txt (line 1)) (4.67.1)\n",
      "Requirement already satisfied: requests in c:\\users\\tif-awadh\\downloads\\transformer\\mistral-310\\lib\\site-packages (from transformers==4.39.3->-r requirements.txt (line 1)) (2.32.4)\n",
      "Requirement already satisfied: tokenizers<0.19,>=0.14 in c:\\users\\tif-awadh\\downloads\\transformer\\mistral-310\\lib\\site-packages (from transformers==4.39.3->-r requirements.txt (line 1)) (0.15.2)\n",
      "Requirement already satisfied: safetensors>=0.4.1 in c:\\users\\tif-awadh\\downloads\\transformer\\mistral-310\\lib\\site-packages (from transformers==4.39.3->-r requirements.txt (line 1)) (0.5.3)\n",
      "Requirement already satisfied: torch>=1.4.0 in c:\\users\\tif-awadh\\downloads\\transformer\\mistral-310\\lib\\site-packages (from trl==0.8.6->-r requirements.txt (line 2)) (2.1.2+cu118)\n",
      "Requirement already satisfied: tyro>=0.5.11 in c:\\users\\tif-awadh\\downloads\\transformer\\mistral-310\\lib\\site-packages (from trl==0.8.6->-r requirements.txt (line 2)) (0.9.26)\n",
      "Requirement already satisfied: psutil in c:\\users\\tif-awadh\\downloads\\transformer\\mistral-310\\lib\\site-packages (from peft==0.8.2->-r requirements.txt (line 3)) (7.0.0)\n",
      "Requirement already satisfied: pandas in c:\\users\\tif-awadh\\downloads\\transformer\\mistral-310\\lib\\site-packages (from datasets==4.0.0->-r requirements.txt (line 5)) (2.3.1)\n",
      "Requirement already satisfied: xxhash in c:\\users\\tif-awadh\\downloads\\transformer\\mistral-310\\lib\\site-packages (from datasets==4.0.0->-r requirements.txt (line 5)) (3.5.0)\n",
      "Requirement already satisfied: dill<0.3.9,>=0.3.0 in c:\\users\\tif-awadh\\downloads\\transformer\\mistral-310\\lib\\site-packages (from datasets==4.0.0->-r requirements.txt (line 5)) (0.3.8)\n",
      "Requirement already satisfied: pyarrow>=15.0.0 in c:\\users\\tif-awadh\\downloads\\transformer\\mistral-310\\lib\\site-packages (from datasets==4.0.0->-r requirements.txt (line 5)) (20.0.0)\n",
      "Requirement already satisfied: fsspec[http]<=2025.3.0,>=2023.1.0 in c:\\users\\tif-awadh\\downloads\\transformer\\mistral-310\\lib\\site-packages (from datasets==4.0.0->-r requirements.txt (line 5)) (2025.3.0)\n",
      "Requirement already satisfied: multiprocess<0.70.17 in c:\\users\\tif-awadh\\downloads\\transformer\\mistral-310\\lib\\site-packages (from datasets==4.0.0->-r requirements.txt (line 5)) (0.70.16)\n",
      "Requirement already satisfied: aiohttp!=4.0.0a0,!=4.0.0a1 in c:\\users\\tif-awadh\\downloads\\transformer\\mistral-310\\lib\\site-packages (from fsspec[http]<=2025.3.0,>=2023.1.0->datasets==4.0.0->-r requirements.txt (line 5)) (3.12.14)\n",
      "Requirement already satisfied: frozenlist>=1.1.1 in c:\\users\\tif-awadh\\downloads\\transformer\\mistral-310\\lib\\site-packages (from aiohttp!=4.0.0a0,!=4.0.0a1->fsspec[http]<=2025.3.0,>=2023.1.0->datasets==4.0.0->-r requirements.txt (line 5)) (1.7.0)\n",
      "Requirement already satisfied: multidict<7.0,>=4.5 in c:\\users\\tif-awadh\\downloads\\transformer\\mistral-310\\lib\\site-packages (from aiohttp!=4.0.0a0,!=4.0.0a1->fsspec[http]<=2025.3.0,>=2023.1.0->datasets==4.0.0->-r requirements.txt (line 5)) (6.6.3)\n",
      "Requirement already satisfied: aiohappyeyeballs>=2.5.0 in c:\\users\\tif-awadh\\downloads\\transformer\\mistral-310\\lib\\site-packages (from aiohttp!=4.0.0a0,!=4.0.0a1->fsspec[http]<=2025.3.0,>=2023.1.0->datasets==4.0.0->-r requirements.txt (line 5)) (2.6.1)\n",
      "Requirement already satisfied: attrs>=17.3.0 in c:\\users\\tif-awadh\\downloads\\transformer\\mistral-310\\lib\\site-packages (from aiohttp!=4.0.0a0,!=4.0.0a1->fsspec[http]<=2025.3.0,>=2023.1.0->datasets==4.0.0->-r requirements.txt (line 5)) (25.3.0)\n",
      "Requirement already satisfied: yarl<2.0,>=1.17.0 in c:\\users\\tif-awadh\\downloads\\transformer\\mistral-310\\lib\\site-packages (from aiohttp!=4.0.0a0,!=4.0.0a1->fsspec[http]<=2025.3.0,>=2023.1.0->datasets==4.0.0->-r requirements.txt (line 5)) (1.20.1)\n",
      "Requirement already satisfied: propcache>=0.2.0 in c:\\users\\tif-awadh\\downloads\\transformer\\mistral-310\\lib\\site-packages (from aiohttp!=4.0.0a0,!=4.0.0a1->fsspec[http]<=2025.3.0,>=2023.1.0->datasets==4.0.0->-r requirements.txt (line 5)) (0.3.2)\n",
      "Requirement already satisfied: aiosignal>=1.4.0 in c:\\users\\tif-awadh\\downloads\\transformer\\mistral-310\\lib\\site-packages (from aiohttp!=4.0.0a0,!=4.0.0a1->fsspec[http]<=2025.3.0,>=2023.1.0->datasets==4.0.0->-r requirements.txt (line 5)) (1.4.0)\n",
      "Requirement already satisfied: async-timeout<6.0,>=4.0 in c:\\users\\tif-awadh\\downloads\\transformer\\mistral-310\\lib\\site-packages (from aiohttp!=4.0.0a0,!=4.0.0a1->fsspec[http]<=2025.3.0,>=2023.1.0->datasets==4.0.0->-r requirements.txt (line 5)) (5.0.1)\n",
      "Requirement already satisfied: typing-extensions>=4.2 in c:\\users\\tif-awadh\\downloads\\transformer\\mistral-310\\lib\\site-packages (from aiosignal>=1.4.0->aiohttp!=4.0.0a0,!=4.0.0a1->fsspec[http]<=2025.3.0,>=2023.1.0->datasets==4.0.0->-r requirements.txt (line 5)) (4.14.1)\n",
      "Requirement already satisfied: idna<4,>=2.5 in c:\\users\\tif-awadh\\downloads\\transformer\\mistral-310\\lib\\site-packages (from requests->transformers==4.39.3->-r requirements.txt (line 1)) (3.10)\n",
      "Requirement already satisfied: urllib3<3,>=1.21.1 in c:\\users\\tif-awadh\\downloads\\transformer\\mistral-310\\lib\\site-packages (from requests->transformers==4.39.3->-r requirements.txt (line 1)) (2.5.0)\n",
      "Requirement already satisfied: certifi>=2017.4.17 in c:\\users\\tif-awadh\\downloads\\transformer\\mistral-310\\lib\\site-packages (from requests->transformers==4.39.3->-r requirements.txt (line 1)) (2025.7.14)\n",
      "Requirement already satisfied: charset_normalizer<4,>=2 in c:\\users\\tif-awadh\\downloads\\transformer\\mistral-310\\lib\\site-packages (from requests->transformers==4.39.3->-r requirements.txt (line 1)) (3.4.2)\n",
      "Requirement already satisfied: networkx in c:\\users\\tif-awadh\\downloads\\transformer\\mistral-310\\lib\\site-packages (from torch>=1.4.0->trl==0.8.6->-r requirements.txt (line 2)) (3.4.2)\n",
      "Requirement already satisfied: jinja2 in c:\\users\\tif-awadh\\downloads\\transformer\\mistral-310\\lib\\site-packages (from torch>=1.4.0->trl==0.8.6->-r requirements.txt (line 2)) (3.1.6)\n",
      "Requirement already satisfied: sympy in c:\\users\\tif-awadh\\downloads\\transformer\\mistral-310\\lib\\site-packages (from torch>=1.4.0->trl==0.8.6->-r requirements.txt (line 2)) (1.14.0)\n",
      "Requirement already satisfied: colorama in c:\\users\\tif-awadh\\downloads\\transformer\\mistral-310\\lib\\site-packages (from tqdm>=4.27->transformers==4.39.3->-r requirements.txt (line 1)) (0.4.6)\n",
      "Requirement already satisfied: typeguard>=4.0.0 in c:\\users\\tif-awadh\\downloads\\transformer\\mistral-310\\lib\\site-packages (from tyro>=0.5.11->trl==0.8.6->-r requirements.txt (line 2)) (4.4.4)\n",
      "Requirement already satisfied: rich>=11.1.0 in c:\\users\\tif-awadh\\downloads\\transformer\\mistral-310\\lib\\site-packages (from tyro>=0.5.11->trl==0.8.6->-r requirements.txt (line 2)) (14.0.0)\n",
      "Requirement already satisfied: shtab>=1.5.6 in c:\\users\\tif-awadh\\downloads\\transformer\\mistral-310\\lib\\site-packages (from tyro>=0.5.11->trl==0.8.6->-r requirements.txt (line 2)) (1.7.2)\n",
      "Requirement already satisfied: docstring-parser>=0.15 in c:\\users\\tif-awadh\\downloads\\transformer\\mistral-310\\lib\\site-packages (from tyro>=0.5.11->trl==0.8.6->-r requirements.txt (line 2)) (0.16)\n",
      "Requirement already satisfied: markdown-it-py>=2.2.0 in c:\\users\\tif-awadh\\downloads\\transformer\\mistral-310\\lib\\site-packages (from rich>=11.1.0->tyro>=0.5.11->trl==0.8.6->-r requirements.txt (line 2)) (3.0.0)\n",
      "Requirement already satisfied: pygments<3.0.0,>=2.13.0 in c:\\users\\tif-awadh\\downloads\\transformer\\mistral-310\\lib\\site-packages (from rich>=11.1.0->tyro>=0.5.11->trl==0.8.6->-r requirements.txt (line 2)) (2.19.2)\n",
      "Requirement already satisfied: mdurl~=0.1 in c:\\users\\tif-awadh\\downloads\\transformer\\mistral-310\\lib\\site-packages (from markdown-it-py>=2.2.0->rich>=11.1.0->tyro>=0.5.11->trl==0.8.6->-r requirements.txt (line 2)) (0.1.2)\n",
      "Requirement already satisfied: MarkupSafe>=2.0 in c:\\users\\tif-awadh\\downloads\\transformer\\mistral-310\\lib\\site-packages (from jinja2->torch>=1.4.0->trl==0.8.6->-r requirements.txt (line 2)) (3.0.2)\n",
      "Requirement already satisfied: pytz>=2020.1 in c:\\users\\tif-awadh\\downloads\\transformer\\mistral-310\\lib\\site-packages (from pandas->datasets==4.0.0->-r requirements.txt (line 5)) (2025.2)\n",
      "Requirement already satisfied: python-dateutil>=2.8.2 in c:\\users\\tif-awadh\\downloads\\transformer\\mistral-310\\lib\\site-packages (from pandas->datasets==4.0.0->-r requirements.txt (line 5)) (2.9.0.post0)\n",
      "Requirement already satisfied: tzdata>=2022.7 in c:\\users\\tif-awadh\\downloads\\transformer\\mistral-310\\lib\\site-packages (from pandas->datasets==4.0.0->-r requirements.txt (line 5)) (2025.2)\n",
      "Requirement already satisfied: six>=1.5 in c:\\users\\tif-awadh\\downloads\\transformer\\mistral-310\\lib\\site-packages (from python-dateutil>=2.8.2->pandas->datasets==4.0.0->-r requirements.txt (line 5)) (1.17.0)\n",
      "Requirement already satisfied: mpmath<1.4,>=1.1.0 in c:\\users\\tif-awadh\\downloads\\transformer\\mistral-310\\lib\\site-packages (from sympy->torch>=1.4.0->trl==0.8.6->-r requirements.txt (line 2)) (1.3.0)\n"
     ]
    },
    {
     "name": "stderr",
     "output_type": "stream",
     "text": [
      "WARNING: You are using pip version 21.2.3; however, version 25.1.1 is available.\n",
      "You should consider upgrading via the 'C:\\Users\\TIF-AWaDH\\Downloads\\Transformer\\mistral-310\\Scripts\\python.exe -m pip install --upgrade pip' command.\n"
     ]
    }
   ],
   "source": [
    "!pip install -r requirements.txt\n",
    "\n"
   ]
  },
  {
   "cell_type": "code",
   "execution_count": 1,
   "id": "32966918",
   "metadata": {},
   "outputs": [
    {
     "name": "stderr",
     "output_type": "stream",
     "text": [
      "c:\\Users\\TIF-AWaDH\\AppData\\Local\\Programs\\Python\\Python39\\lib\\site-packages\\tqdm\\auto.py:21: TqdmWarning: IProgress not found. Please update jupyter and ipywidgets. See https://ipywidgets.readthedocs.io/en/stable/user_install.html\n",
      "  from .autonotebook import tqdm as notebook_tqdm\n",
      "The installed version of bitsandbytes was compiled without GPU support. 8-bit optimizers and GPU quantization are unavailable.\n",
      "c:\\Users\\TIF-AWaDH\\AppData\\Local\\Programs\\Python\\Python39\\lib\\site-packages\\torchvision\\io\\image.py:13: UserWarning: Failed to load image Python extension: 'Could not find module 'C:\\Users\\TIF-AWaDH\\AppData\\Local\\Programs\\Python\\Python39\\Lib\\site-packages\\torchvision\\image.pyd' (or one of its dependencies). Try using the full path with constructor syntax.'If you don't plan on using image functionality from `torchvision.io`, you can ignore this warning. Otherwise, there might be something wrong with your environment. Did you have `libjpeg` or `libpng` installed before building `torchvision` from source?\n",
      "  warn(\n"
     ]
    },
    {
     "name": "stdout",
     "output_type": "stream",
     "text": [
      "4.53.2\n",
      "0.20.0.dev0\n",
      "0.7.0\n",
      "1.8.1\n",
      "0.21.2\n",
      "2.7.1+cpu False\n"
     ]
    }
   ],
   "source": [
    "import transformers, trl, peft, accelerate, tokenizers, torch\n",
    "print(transformers.__version__)\n",
    "print(trl.__version__)\n",
    "print(peft.__version__)\n",
    "print(accelerate.__version__)\n",
    "print(tokenizers.__version__)\n",
    "print(torch.__version__, torch.cuda.is_available())\n",
    "\n"
   ]
  },
  {
   "cell_type": "code",
   "execution_count": 1,
   "id": "e48a5b36",
   "metadata": {},
   "outputs": [
    {
     "name": "stdout",
     "output_type": "stream",
     "text": [
      "Defaulting to user installation because normal site-packages is not writeable\n",
      "Requirement already satisfied: transformers in c:\\users\\tif-awadh\\appdata\\roaming\\python\\python313\\site-packages (4.53.2)\n",
      "Requirement already satisfied: accelerate in c:\\users\\tif-awadh\\appdata\\roaming\\python\\python313\\site-packages (1.8.1)\n",
      "Requirement already satisfied: datasets in c:\\users\\tif-awadh\\appdata\\roaming\\python\\python313\\site-packages (4.0.0)\n",
      "Requirement already satisfied: peft in c:\\users\\tif-awadh\\appdata\\roaming\\python\\python313\\site-packages (0.16.0)\n",
      "Requirement already satisfied: trl in c:\\users\\tif-awadh\\appdata\\roaming\\python\\python313\\site-packages (0.19.1)\n",
      "Requirement already satisfied: bitsandbytes in c:\\users\\tif-awadh\\appdata\\roaming\\python\\python313\\site-packages (0.46.1)\n",
      "Requirement already satisfied: xformers in c:\\users\\tif-awadh\\appdata\\roaming\\python\\python313\\site-packages (0.0.31.post1)\n",
      "Requirement already satisfied: jupyter in c:\\users\\tif-awadh\\appdata\\roaming\\python\\python313\\site-packages (1.1.1)\n",
      "Requirement already satisfied: filelock in c:\\users\\tif-awadh\\appdata\\roaming\\python\\python313\\site-packages (from transformers) (3.18.0)\n",
      "Requirement already satisfied: huggingface-hub<1.0,>=0.30.0 in c:\\users\\tif-awadh\\appdata\\roaming\\python\\python313\\site-packages (from transformers) (0.33.4)\n",
      "Requirement already satisfied: numpy>=1.17 in c:\\users\\tif-awadh\\appdata\\roaming\\python\\python313\\site-packages (from transformers) (2.3.1)\n",
      "Requirement already satisfied: packaging>=20.0 in c:\\users\\tif-awadh\\appdata\\roaming\\python\\python313\\site-packages (from transformers) (25.0)\n",
      "Requirement already satisfied: pyyaml>=5.1 in c:\\users\\tif-awadh\\appdata\\roaming\\python\\python313\\site-packages (from transformers) (6.0.2)\n",
      "Requirement already satisfied: regex!=2019.12.17 in c:\\users\\tif-awadh\\appdata\\roaming\\python\\python313\\site-packages (from transformers) (2024.11.6)\n",
      "Requirement already satisfied: requests in c:\\users\\tif-awadh\\appdata\\roaming\\python\\python313\\site-packages (from transformers) (2.32.4)\n",
      "Requirement already satisfied: tokenizers<0.22,>=0.21 in c:\\users\\tif-awadh\\appdata\\roaming\\python\\python313\\site-packages (from transformers) (0.21.2)\n",
      "Requirement already satisfied: safetensors>=0.4.3 in c:\\users\\tif-awadh\\appdata\\roaming\\python\\python313\\site-packages (from transformers) (0.5.3)\n",
      "Requirement already satisfied: tqdm>=4.27 in c:\\users\\tif-awadh\\appdata\\roaming\\python\\python313\\site-packages (from transformers) (4.67.1)\n",
      "Requirement already satisfied: fsspec>=2023.5.0 in c:\\users\\tif-awadh\\appdata\\roaming\\python\\python313\\site-packages (from huggingface-hub<1.0,>=0.30.0->transformers) (2025.3.0)\n",
      "Requirement already satisfied: typing-extensions>=3.7.4.3 in c:\\users\\tif-awadh\\appdata\\roaming\\python\\python313\\site-packages (from huggingface-hub<1.0,>=0.30.0->transformers) (4.14.1)\n",
      "Requirement already satisfied: psutil in c:\\users\\tif-awadh\\appdata\\roaming\\python\\python313\\site-packages (from accelerate) (7.0.0)\n",
      "Requirement already satisfied: torch>=2.0.0 in c:\\users\\tif-awadh\\appdata\\roaming\\python\\python313\\site-packages (from accelerate) (2.7.1+cu118)\n",
      "Requirement already satisfied: pyarrow>=15.0.0 in c:\\users\\tif-awadh\\appdata\\roaming\\python\\python313\\site-packages (from datasets) (20.0.0)\n",
      "Requirement already satisfied: dill<0.3.9,>=0.3.0 in c:\\users\\tif-awadh\\appdata\\roaming\\python\\python313\\site-packages (from datasets) (0.3.8)\n",
      "Requirement already satisfied: pandas in c:\\users\\tif-awadh\\appdata\\roaming\\python\\python313\\site-packages (from datasets) (2.3.1)\n",
      "Requirement already satisfied: xxhash in c:\\users\\tif-awadh\\appdata\\roaming\\python\\python313\\site-packages (from datasets) (3.5.0)\n",
      "Requirement already satisfied: multiprocess<0.70.17 in c:\\users\\tif-awadh\\appdata\\roaming\\python\\python313\\site-packages (from datasets) (0.70.16)\n",
      "Requirement already satisfied: aiohttp!=4.0.0a0,!=4.0.0a1 in c:\\users\\tif-awadh\\appdata\\roaming\\python\\python313\\site-packages (from fsspec[http]<=2025.3.0,>=2023.1.0->datasets) (3.12.13)\n",
      "Requirement already satisfied: sympy>=1.13.3 in c:\\users\\tif-awadh\\appdata\\roaming\\python\\python313\\site-packages (from torch>=2.0.0->accelerate) (1.14.0)\n",
      "Requirement already satisfied: networkx in c:\\users\\tif-awadh\\appdata\\roaming\\python\\python313\\site-packages (from torch>=2.0.0->accelerate) (3.5)\n",
      "Requirement already satisfied: jinja2 in c:\\users\\tif-awadh\\appdata\\roaming\\python\\python313\\site-packages (from torch>=2.0.0->accelerate) (3.1.6)\n",
      "Requirement already satisfied: setuptools in c:\\users\\tif-awadh\\appdata\\roaming\\python\\python313\\site-packages (from torch>=2.0.0->accelerate) (80.9.0)\n",
      "Requirement already satisfied: notebook in c:\\users\\tif-awadh\\appdata\\roaming\\python\\python313\\site-packages (from jupyter) (7.4.4)\n",
      "Requirement already satisfied: jupyter-console in c:\\users\\tif-awadh\\appdata\\roaming\\python\\python313\\site-packages (from jupyter) (6.6.3)\n",
      "Requirement already satisfied: nbconvert in c:\\users\\tif-awadh\\appdata\\roaming\\python\\python313\\site-packages (from jupyter) (7.16.6)\n",
      "Requirement already satisfied: ipykernel in c:\\users\\tif-awadh\\appdata\\roaming\\python\\python313\\site-packages (from jupyter) (6.29.5)\n",
      "Requirement already satisfied: ipywidgets in c:\\users\\tif-awadh\\appdata\\roaming\\python\\python313\\site-packages (from jupyter) (8.1.7)\n",
      "Requirement already satisfied: jupyterlab in c:\\users\\tif-awadh\\appdata\\roaming\\python\\python313\\site-packages (from jupyter) (4.4.4)\n",
      "Requirement already satisfied: aiohappyeyeballs>=2.5.0 in c:\\users\\tif-awadh\\appdata\\roaming\\python\\python313\\site-packages (from aiohttp!=4.0.0a0,!=4.0.0a1->fsspec[http]<=2025.3.0,>=2023.1.0->datasets) (2.6.1)\n",
      "Requirement already satisfied: aiosignal>=1.1.2 in c:\\users\\tif-awadh\\appdata\\roaming\\python\\python313\\site-packages (from aiohttp!=4.0.0a0,!=4.0.0a1->fsspec[http]<=2025.3.0,>=2023.1.0->datasets) (1.3.2)\n",
      "Requirement already satisfied: attrs>=17.3.0 in c:\\users\\tif-awadh\\appdata\\roaming\\python\\python313\\site-packages (from aiohttp!=4.0.0a0,!=4.0.0a1->fsspec[http]<=2025.3.0,>=2023.1.0->datasets) (25.3.0)\n",
      "Requirement already satisfied: frozenlist>=1.1.1 in c:\\users\\tif-awadh\\appdata\\roaming\\python\\python313\\site-packages (from aiohttp!=4.0.0a0,!=4.0.0a1->fsspec[http]<=2025.3.0,>=2023.1.0->datasets) (1.7.0)\n",
      "Requirement already satisfied: multidict<7.0,>=4.5 in c:\\users\\tif-awadh\\appdata\\roaming\\python\\python313\\site-packages (from aiohttp!=4.0.0a0,!=4.0.0a1->fsspec[http]<=2025.3.0,>=2023.1.0->datasets) (6.6.3)\n",
      "Requirement already satisfied: propcache>=0.2.0 in c:\\users\\tif-awadh\\appdata\\roaming\\python\\python313\\site-packages (from aiohttp!=4.0.0a0,!=4.0.0a1->fsspec[http]<=2025.3.0,>=2023.1.0->datasets) (0.3.2)\n",
      "Requirement already satisfied: yarl<2.0,>=1.17.0 in c:\\users\\tif-awadh\\appdata\\roaming\\python\\python313\\site-packages (from aiohttp!=4.0.0a0,!=4.0.0a1->fsspec[http]<=2025.3.0,>=2023.1.0->datasets) (1.20.1)\n",
      "Requirement already satisfied: idna>=2.0 in c:\\users\\tif-awadh\\appdata\\roaming\\python\\python313\\site-packages (from yarl<2.0,>=1.17.0->aiohttp!=4.0.0a0,!=4.0.0a1->fsspec[http]<=2025.3.0,>=2023.1.0->datasets) (3.10)\n",
      "Requirement already satisfied: charset_normalizer<4,>=2 in c:\\users\\tif-awadh\\appdata\\roaming\\python\\python313\\site-packages (from requests->transformers) (3.4.2)\n",
      "Requirement already satisfied: urllib3<3,>=1.21.1 in c:\\users\\tif-awadh\\appdata\\roaming\\python\\python313\\site-packages (from requests->transformers) (2.5.0)\n",
      "Requirement already satisfied: certifi>=2017.4.17 in c:\\users\\tif-awadh\\appdata\\roaming\\python\\python313\\site-packages (from requests->transformers) (2025.7.14)\n",
      "Requirement already satisfied: mpmath<1.4,>=1.1.0 in c:\\users\\tif-awadh\\appdata\\roaming\\python\\python313\\site-packages (from sympy>=1.13.3->torch>=2.0.0->accelerate) (1.3.0)\n",
      "Requirement already satisfied: colorama in c:\\users\\tif-awadh\\appdata\\roaming\\python\\python313\\site-packages (from tqdm>=4.27->transformers) (0.4.6)\n",
      "Requirement already satisfied: comm>=0.1.1 in c:\\users\\tif-awadh\\appdata\\roaming\\python\\python313\\site-packages (from ipykernel->jupyter) (0.2.2)\n",
      "Requirement already satisfied: debugpy>=1.6.5 in c:\\users\\tif-awadh\\appdata\\roaming\\python\\python313\\site-packages (from ipykernel->jupyter) (1.8.14)\n",
      "Requirement already satisfied: ipython>=7.23.1 in c:\\users\\tif-awadh\\appdata\\roaming\\python\\python313\\site-packages (from ipykernel->jupyter) (9.4.0)\n",
      "Requirement already satisfied: jupyter-client>=6.1.12 in c:\\users\\tif-awadh\\appdata\\roaming\\python\\python313\\site-packages (from ipykernel->jupyter) (8.6.3)\n",
      "Requirement already satisfied: jupyter-core!=5.0.*,>=4.12 in c:\\users\\tif-awadh\\appdata\\roaming\\python\\python313\\site-packages (from ipykernel->jupyter) (5.8.1)\n",
      "Requirement already satisfied: matplotlib-inline>=0.1 in c:\\users\\tif-awadh\\appdata\\roaming\\python\\python313\\site-packages (from ipykernel->jupyter) (0.1.7)\n",
      "Requirement already satisfied: nest-asyncio in c:\\users\\tif-awadh\\appdata\\roaming\\python\\python313\\site-packages (from ipykernel->jupyter) (1.6.0)\n",
      "Requirement already satisfied: pyzmq>=24 in c:\\users\\tif-awadh\\appdata\\roaming\\python\\python313\\site-packages (from ipykernel->jupyter) (27.0.0)\n",
      "Requirement already satisfied: tornado>=6.1 in c:\\users\\tif-awadh\\appdata\\roaming\\python\\python313\\site-packages (from ipykernel->jupyter) (6.5.1)\n",
      "Requirement already satisfied: traitlets>=5.4.0 in c:\\users\\tif-awadh\\appdata\\roaming\\python\\python313\\site-packages (from ipykernel->jupyter) (5.14.3)\n",
      "Requirement already satisfied: decorator in c:\\users\\tif-awadh\\appdata\\roaming\\python\\python313\\site-packages (from ipython>=7.23.1->ipykernel->jupyter) (5.2.1)\n",
      "Requirement already satisfied: ipython-pygments-lexers in c:\\users\\tif-awadh\\appdata\\roaming\\python\\python313\\site-packages (from ipython>=7.23.1->ipykernel->jupyter) (1.1.1)\n",
      "Requirement already satisfied: jedi>=0.16 in c:\\users\\tif-awadh\\appdata\\roaming\\python\\python313\\site-packages (from ipython>=7.23.1->ipykernel->jupyter) (0.19.2)\n",
      "Requirement already satisfied: prompt_toolkit<3.1.0,>=3.0.41 in c:\\users\\tif-awadh\\appdata\\roaming\\python\\python313\\site-packages (from ipython>=7.23.1->ipykernel->jupyter) (3.0.51)\n",
      "Requirement already satisfied: pygments>=2.4.0 in c:\\users\\tif-awadh\\appdata\\roaming\\python\\python313\\site-packages (from ipython>=7.23.1->ipykernel->jupyter) (2.19.2)\n",
      "Requirement already satisfied: stack_data in c:\\users\\tif-awadh\\appdata\\roaming\\python\\python313\\site-packages (from ipython>=7.23.1->ipykernel->jupyter) (0.6.3)\n",
      "Requirement already satisfied: wcwidth in c:\\users\\tif-awadh\\appdata\\roaming\\python\\python313\\site-packages (from prompt_toolkit<3.1.0,>=3.0.41->ipython>=7.23.1->ipykernel->jupyter) (0.2.13)\n",
      "Requirement already satisfied: parso<0.9.0,>=0.8.4 in c:\\users\\tif-awadh\\appdata\\roaming\\python\\python313\\site-packages (from jedi>=0.16->ipython>=7.23.1->ipykernel->jupyter) (0.8.4)\n",
      "Requirement already satisfied: python-dateutil>=2.8.2 in c:\\users\\tif-awadh\\appdata\\roaming\\python\\python313\\site-packages (from jupyter-client>=6.1.12->ipykernel->jupyter) (2.9.0.post0)\n",
      "Requirement already satisfied: platformdirs>=2.5 in c:\\users\\tif-awadh\\appdata\\roaming\\python\\python313\\site-packages (from jupyter-core!=5.0.*,>=4.12->ipykernel->jupyter) (4.3.8)\n",
      "Requirement already satisfied: pywin32>=300 in c:\\users\\tif-awadh\\appdata\\roaming\\python\\python313\\site-packages (from jupyter-core!=5.0.*,>=4.12->ipykernel->jupyter) (311)\n",
      "Requirement already satisfied: six>=1.5 in c:\\users\\tif-awadh\\appdata\\roaming\\python\\python313\\site-packages (from python-dateutil>=2.8.2->jupyter-client>=6.1.12->ipykernel->jupyter) (1.17.0)\n",
      "Requirement already satisfied: widgetsnbextension~=4.0.14 in c:\\users\\tif-awadh\\appdata\\roaming\\python\\python313\\site-packages (from ipywidgets->jupyter) (4.0.14)\n",
      "Requirement already satisfied: jupyterlab_widgets~=3.0.15 in c:\\users\\tif-awadh\\appdata\\roaming\\python\\python313\\site-packages (from ipywidgets->jupyter) (3.0.15)\n",
      "Requirement already satisfied: MarkupSafe>=2.0 in c:\\users\\tif-awadh\\appdata\\roaming\\python\\python313\\site-packages (from jinja2->torch>=2.0.0->accelerate) (3.0.2)\n",
      "Requirement already satisfied: async-lru>=1.0.0 in c:\\users\\tif-awadh\\appdata\\roaming\\python\\python313\\site-packages (from jupyterlab->jupyter) (2.0.5)\n",
      "Requirement already satisfied: httpx>=0.25.0 in c:\\users\\tif-awadh\\appdata\\roaming\\python\\python313\\site-packages (from jupyterlab->jupyter) (0.28.1)\n",
      "Requirement already satisfied: jupyter-lsp>=2.0.0 in c:\\users\\tif-awadh\\appdata\\roaming\\python\\python313\\site-packages (from jupyterlab->jupyter) (2.2.5)\n",
      "Requirement already satisfied: jupyter-server<3,>=2.4.0 in c:\\users\\tif-awadh\\appdata\\roaming\\python\\python313\\site-packages (from jupyterlab->jupyter) (2.16.0)\n",
      "Requirement already satisfied: jupyterlab-server<3,>=2.27.1 in c:\\users\\tif-awadh\\appdata\\roaming\\python\\python313\\site-packages (from jupyterlab->jupyter) (2.27.3)\n",
      "Requirement already satisfied: notebook-shim>=0.2 in c:\\users\\tif-awadh\\appdata\\roaming\\python\\python313\\site-packages (from jupyterlab->jupyter) (0.2.4)\n",
      "Requirement already satisfied: anyio>=3.1.0 in c:\\users\\tif-awadh\\appdata\\roaming\\python\\python313\\site-packages (from jupyter-server<3,>=2.4.0->jupyterlab->jupyter) (4.9.0)\n",
      "Requirement already satisfied: argon2-cffi>=21.1 in c:\\users\\tif-awadh\\appdata\\roaming\\python\\python313\\site-packages (from jupyter-server<3,>=2.4.0->jupyterlab->jupyter) (25.1.0)\n",
      "Requirement already satisfied: jupyter-events>=0.11.0 in c:\\users\\tif-awadh\\appdata\\roaming\\python\\python313\\site-packages (from jupyter-server<3,>=2.4.0->jupyterlab->jupyter) (0.12.0)\n",
      "Requirement already satisfied: jupyter-server-terminals>=0.4.4 in c:\\users\\tif-awadh\\appdata\\roaming\\python\\python313\\site-packages (from jupyter-server<3,>=2.4.0->jupyterlab->jupyter) (0.5.3)\n",
      "Requirement already satisfied: nbformat>=5.3.0 in c:\\users\\tif-awadh\\appdata\\roaming\\python\\python313\\site-packages (from jupyter-server<3,>=2.4.0->jupyterlab->jupyter) (5.10.4)\n",
      "Requirement already satisfied: overrides>=5.0 in c:\\users\\tif-awadh\\appdata\\roaming\\python\\python313\\site-packages (from jupyter-server<3,>=2.4.0->jupyterlab->jupyter) (7.7.0)\n",
      "Requirement already satisfied: prometheus-client>=0.9 in c:\\users\\tif-awadh\\appdata\\roaming\\python\\python313\\site-packages (from jupyter-server<3,>=2.4.0->jupyterlab->jupyter) (0.22.1)\n",
      "Requirement already satisfied: pywinpty>=2.0.1 in c:\\users\\tif-awadh\\appdata\\roaming\\python\\python313\\site-packages (from jupyter-server<3,>=2.4.0->jupyterlab->jupyter) (2.0.15)\n",
      "Requirement already satisfied: send2trash>=1.8.2 in c:\\users\\tif-awadh\\appdata\\roaming\\python\\python313\\site-packages (from jupyter-server<3,>=2.4.0->jupyterlab->jupyter) (1.8.3)\n",
      "Requirement already satisfied: terminado>=0.8.3 in c:\\users\\tif-awadh\\appdata\\roaming\\python\\python313\\site-packages (from jupyter-server<3,>=2.4.0->jupyterlab->jupyter) (0.18.1)\n",
      "Requirement already satisfied: websocket-client>=1.7 in c:\\users\\tif-awadh\\appdata\\roaming\\python\\python313\\site-packages (from jupyter-server<3,>=2.4.0->jupyterlab->jupyter) (1.8.0)\n",
      "Requirement already satisfied: babel>=2.10 in c:\\users\\tif-awadh\\appdata\\roaming\\python\\python313\\site-packages (from jupyterlab-server<3,>=2.27.1->jupyterlab->jupyter) (2.17.0)\n",
      "Requirement already satisfied: json5>=0.9.0 in c:\\users\\tif-awadh\\appdata\\roaming\\python\\python313\\site-packages (from jupyterlab-server<3,>=2.27.1->jupyterlab->jupyter) (0.12.0)\n",
      "Requirement already satisfied: jsonschema>=4.18.0 in c:\\users\\tif-awadh\\appdata\\roaming\\python\\python313\\site-packages (from jupyterlab-server<3,>=2.27.1->jupyterlab->jupyter) (4.24.0)\n",
      "Requirement already satisfied: sniffio>=1.1 in c:\\users\\tif-awadh\\appdata\\roaming\\python\\python313\\site-packages (from anyio>=3.1.0->jupyter-server<3,>=2.4.0->jupyterlab->jupyter) (1.3.1)\n",
      "Requirement already satisfied: argon2-cffi-bindings in c:\\users\\tif-awadh\\appdata\\roaming\\python\\python313\\site-packages (from argon2-cffi>=21.1->jupyter-server<3,>=2.4.0->jupyterlab->jupyter) (21.2.0)\n",
      "Requirement already satisfied: httpcore==1.* in c:\\users\\tif-awadh\\appdata\\roaming\\python\\python313\\site-packages (from httpx>=0.25.0->jupyterlab->jupyter) (1.0.9)\n",
      "Requirement already satisfied: h11>=0.16 in c:\\users\\tif-awadh\\appdata\\roaming\\python\\python313\\site-packages (from httpcore==1.*->httpx>=0.25.0->jupyterlab->jupyter) (0.16.0)\n",
      "Requirement already satisfied: jsonschema-specifications>=2023.03.6 in c:\\users\\tif-awadh\\appdata\\roaming\\python\\python313\\site-packages (from jsonschema>=4.18.0->jupyterlab-server<3,>=2.27.1->jupyterlab->jupyter) (2025.4.1)\n",
      "Requirement already satisfied: referencing>=0.28.4 in c:\\users\\tif-awadh\\appdata\\roaming\\python\\python313\\site-packages (from jsonschema>=4.18.0->jupyterlab-server<3,>=2.27.1->jupyterlab->jupyter) (0.36.2)\n",
      "Requirement already satisfied: rpds-py>=0.7.1 in c:\\users\\tif-awadh\\appdata\\roaming\\python\\python313\\site-packages (from jsonschema>=4.18.0->jupyterlab-server<3,>=2.27.1->jupyterlab->jupyter) (0.26.0)\n",
      "Requirement already satisfied: python-json-logger>=2.0.4 in c:\\users\\tif-awadh\\appdata\\roaming\\python\\python313\\site-packages (from jupyter-events>=0.11.0->jupyter-server<3,>=2.4.0->jupyterlab->jupyter) (3.3.0)\n",
      "Requirement already satisfied: rfc3339-validator in c:\\users\\tif-awadh\\appdata\\roaming\\python\\python313\\site-packages (from jupyter-events>=0.11.0->jupyter-server<3,>=2.4.0->jupyterlab->jupyter) (0.1.4)\n",
      "Requirement already satisfied: rfc3986-validator>=0.1.1 in c:\\users\\tif-awadh\\appdata\\roaming\\python\\python313\\site-packages (from jupyter-events>=0.11.0->jupyter-server<3,>=2.4.0->jupyterlab->jupyter) (0.1.1)\n",
      "Requirement already satisfied: fqdn in c:\\users\\tif-awadh\\appdata\\roaming\\python\\python313\\site-packages (from jsonschema[format-nongpl]>=4.18.0->jupyter-events>=0.11.0->jupyter-server<3,>=2.4.0->jupyterlab->jupyter) (1.5.1)\n",
      "Requirement already satisfied: isoduration in c:\\users\\tif-awadh\\appdata\\roaming\\python\\python313\\site-packages (from jsonschema[format-nongpl]>=4.18.0->jupyter-events>=0.11.0->jupyter-server<3,>=2.4.0->jupyterlab->jupyter) (20.11.0)\n",
      "Requirement already satisfied: jsonpointer>1.13 in c:\\users\\tif-awadh\\appdata\\roaming\\python\\python313\\site-packages (from jsonschema[format-nongpl]>=4.18.0->jupyter-events>=0.11.0->jupyter-server<3,>=2.4.0->jupyterlab->jupyter) (3.0.0)\n",
      "Requirement already satisfied: uri-template in c:\\users\\tif-awadh\\appdata\\roaming\\python\\python313\\site-packages (from jsonschema[format-nongpl]>=4.18.0->jupyter-events>=0.11.0->jupyter-server<3,>=2.4.0->jupyterlab->jupyter) (1.3.0)\n",
      "Requirement already satisfied: webcolors>=24.6.0 in c:\\users\\tif-awadh\\appdata\\roaming\\python\\python313\\site-packages (from jsonschema[format-nongpl]>=4.18.0->jupyter-events>=0.11.0->jupyter-server<3,>=2.4.0->jupyterlab->jupyter) (24.11.1)\n",
      "Requirement already satisfied: beautifulsoup4 in c:\\users\\tif-awadh\\appdata\\roaming\\python\\python313\\site-packages (from nbconvert->jupyter) (4.13.4)\n",
      "Requirement already satisfied: bleach!=5.0.0 in c:\\users\\tif-awadh\\appdata\\roaming\\python\\python313\\site-packages (from bleach[css]!=5.0.0->nbconvert->jupyter) (6.2.0)\n",
      "Requirement already satisfied: defusedxml in c:\\users\\tif-awadh\\appdata\\roaming\\python\\python313\\site-packages (from nbconvert->jupyter) (0.7.1)\n",
      "Requirement already satisfied: jupyterlab-pygments in c:\\users\\tif-awadh\\appdata\\roaming\\python\\python313\\site-packages (from nbconvert->jupyter) (0.3.0)\n",
      "Requirement already satisfied: mistune<4,>=2.0.3 in c:\\users\\tif-awadh\\appdata\\roaming\\python\\python313\\site-packages (from nbconvert->jupyter) (3.1.3)\n",
      "Requirement already satisfied: nbclient>=0.5.0 in c:\\users\\tif-awadh\\appdata\\roaming\\python\\python313\\site-packages (from nbconvert->jupyter) (0.10.2)\n",
      "Requirement already satisfied: pandocfilters>=1.4.1 in c:\\users\\tif-awadh\\appdata\\roaming\\python\\python313\\site-packages (from nbconvert->jupyter) (1.5.1)\n",
      "Requirement already satisfied: webencodings in c:\\users\\tif-awadh\\appdata\\roaming\\python\\python313\\site-packages (from bleach!=5.0.0->bleach[css]!=5.0.0->nbconvert->jupyter) (0.5.1)\n",
      "Requirement already satisfied: tinycss2<1.5,>=1.1.0 in c:\\users\\tif-awadh\\appdata\\roaming\\python\\python313\\site-packages (from bleach[css]!=5.0.0->nbconvert->jupyter) (1.4.0)\n",
      "Requirement already satisfied: fastjsonschema>=2.15 in c:\\users\\tif-awadh\\appdata\\roaming\\python\\python313\\site-packages (from nbformat>=5.3.0->jupyter-server<3,>=2.4.0->jupyterlab->jupyter) (2.21.1)\n",
      "Requirement already satisfied: cffi>=1.0.1 in c:\\users\\tif-awadh\\appdata\\roaming\\python\\python313\\site-packages (from argon2-cffi-bindings->argon2-cffi>=21.1->jupyter-server<3,>=2.4.0->jupyterlab->jupyter) (1.17.1)\n",
      "Requirement already satisfied: pycparser in c:\\users\\tif-awadh\\appdata\\roaming\\python\\python313\\site-packages (from cffi>=1.0.1->argon2-cffi-bindings->argon2-cffi>=21.1->jupyter-server<3,>=2.4.0->jupyterlab->jupyter) (2.22)\n",
      "Requirement already satisfied: soupsieve>1.2 in c:\\users\\tif-awadh\\appdata\\roaming\\python\\python313\\site-packages (from beautifulsoup4->nbconvert->jupyter) (2.7)\n",
      "Requirement already satisfied: arrow>=0.15.0 in c:\\users\\tif-awadh\\appdata\\roaming\\python\\python313\\site-packages (from isoduration->jsonschema[format-nongpl]>=4.18.0->jupyter-events>=0.11.0->jupyter-server<3,>=2.4.0->jupyterlab->jupyter) (1.3.0)\n",
      "Requirement already satisfied: types-python-dateutil>=2.8.10 in c:\\users\\tif-awadh\\appdata\\roaming\\python\\python313\\site-packages (from arrow>=0.15.0->isoduration->jsonschema[format-nongpl]>=4.18.0->jupyter-events>=0.11.0->jupyter-server<3,>=2.4.0->jupyterlab->jupyter) (2.9.0.20250708)\n",
      "Requirement already satisfied: pytz>=2020.1 in c:\\users\\tif-awadh\\appdata\\roaming\\python\\python313\\site-packages (from pandas->datasets) (2025.2)\n",
      "Requirement already satisfied: tzdata>=2022.7 in c:\\users\\tif-awadh\\appdata\\roaming\\python\\python313\\site-packages (from pandas->datasets) (2025.2)\n",
      "Requirement already satisfied: executing>=1.2.0 in c:\\users\\tif-awadh\\appdata\\roaming\\python\\python313\\site-packages (from stack_data->ipython>=7.23.1->ipykernel->jupyter) (2.2.0)\n",
      "Requirement already satisfied: asttokens>=2.1.0 in c:\\users\\tif-awadh\\appdata\\roaming\\python\\python313\\site-packages (from stack_data->ipython>=7.23.1->ipykernel->jupyter) (3.0.0)\n",
      "Requirement already satisfied: pure-eval in c:\\users\\tif-awadh\\appdata\\roaming\\python\\python313\\site-packages (from stack_data->ipython>=7.23.1->ipykernel->jupyter) (0.2.3)\n"
     ]
    }
   ],
   "source": [
    "!pip install transformers accelerate datasets peft trl bitsandbytes xformers jupyter"
   ]
  },
  {
   "cell_type": "code",
   "execution_count": 8,
   "id": "ec56eec2",
   "metadata": {},
   "outputs": [
    {
     "name": "stdout",
     "output_type": "stream",
     "text": [
      "Collecting peft==0.5.0\n",
      "  Downloading peft-0.5.0-py3-none-any.whl.metadata (22 kB)\n",
      "Collecting accelerate==0.21.0\n",
      "  Downloading accelerate-0.21.0-py3-none-any.whl.metadata (17 kB)\n",
      "Requirement already satisfied: numpy>=1.17 in c:\\users\\tif-awadh\\downloads\\transformer\\mistral-gpu-env\\lib\\site-packages (from peft==0.5.0) (1.26.3)\n",
      "Requirement already satisfied: packaging>=20.0 in c:\\users\\tif-awadh\\downloads\\transformer\\mistral-gpu-env\\lib\\site-packages (from peft==0.5.0) (25.0)\n",
      "Requirement already satisfied: psutil in c:\\users\\tif-awadh\\downloads\\transformer\\mistral-gpu-env\\lib\\site-packages (from peft==0.5.0) (7.0.0)\n",
      "Requirement already satisfied: pyyaml in c:\\users\\tif-awadh\\downloads\\transformer\\mistral-gpu-env\\lib\\site-packages (from peft==0.5.0) (6.0.2)\n",
      "Requirement already satisfied: torch>=1.13.0 in c:\\users\\tif-awadh\\downloads\\transformer\\mistral-gpu-env\\lib\\site-packages (from peft==0.5.0) (2.7.1+cu118)\n",
      "Requirement already satisfied: transformers in c:\\users\\tif-awadh\\downloads\\transformer\\mistral-gpu-env\\lib\\site-packages (from peft==0.5.0) (4.31.0)\n",
      "Requirement already satisfied: tqdm in c:\\users\\tif-awadh\\downloads\\transformer\\mistral-gpu-env\\lib\\site-packages (from peft==0.5.0) (4.67.1)\n",
      "Requirement already satisfied: safetensors in c:\\users\\tif-awadh\\downloads\\transformer\\mistral-gpu-env\\lib\\site-packages (from peft==0.5.0) (0.5.3)\n",
      "Requirement already satisfied: filelock in c:\\users\\tif-awadh\\downloads\\transformer\\mistral-gpu-env\\lib\\site-packages (from torch>=1.13.0->peft==0.5.0) (3.18.0)\n",
      "Requirement already satisfied: typing-extensions>=4.10.0 in c:\\users\\tif-awadh\\downloads\\transformer\\mistral-gpu-env\\lib\\site-packages (from torch>=1.13.0->peft==0.5.0) (4.14.1)\n",
      "Requirement already satisfied: sympy>=1.13.3 in c:\\users\\tif-awadh\\downloads\\transformer\\mistral-gpu-env\\lib\\site-packages (from torch>=1.13.0->peft==0.5.0) (1.13.3)\n",
      "Requirement already satisfied: networkx in c:\\users\\tif-awadh\\downloads\\transformer\\mistral-gpu-env\\lib\\site-packages (from torch>=1.13.0->peft==0.5.0) (3.2.1)\n",
      "Requirement already satisfied: jinja2 in c:\\users\\tif-awadh\\downloads\\transformer\\mistral-gpu-env\\lib\\site-packages (from torch>=1.13.0->peft==0.5.0) (3.1.4)\n",
      "Requirement already satisfied: fsspec in c:\\users\\tif-awadh\\downloads\\transformer\\mistral-gpu-env\\lib\\site-packages (from torch>=1.13.0->peft==0.5.0) (2025.3.0)\n",
      "Requirement already satisfied: mpmath<1.4,>=1.1.0 in c:\\users\\tif-awadh\\downloads\\transformer\\mistral-gpu-env\\lib\\site-packages (from sympy>=1.13.3->torch>=1.13.0->peft==0.5.0) (1.3.0)\n",
      "Requirement already satisfied: MarkupSafe>=2.0 in c:\\users\\tif-awadh\\downloads\\transformer\\mistral-gpu-env\\lib\\site-packages (from jinja2->torch>=1.13.0->peft==0.5.0) (2.1.5)\n",
      "Requirement already satisfied: colorama in c:\\users\\tif-awadh\\downloads\\transformer\\mistral-gpu-env\\lib\\site-packages (from tqdm->peft==0.5.0) (0.4.6)\n",
      "Requirement already satisfied: huggingface-hub<1.0,>=0.14.1 in c:\\users\\tif-awadh\\downloads\\transformer\\mistral-gpu-env\\lib\\site-packages (from transformers->peft==0.5.0) (0.33.4)\n",
      "Requirement already satisfied: regex!=2019.12.17 in c:\\users\\tif-awadh\\downloads\\transformer\\mistral-gpu-env\\lib\\site-packages (from transformers->peft==0.5.0) (2024.11.6)\n",
      "Requirement already satisfied: requests in c:\\users\\tif-awadh\\downloads\\transformer\\mistral-gpu-env\\lib\\site-packages (from transformers->peft==0.5.0) (2.32.4)\n",
      "Requirement already satisfied: tokenizers!=0.11.3,<0.14,>=0.11.1 in c:\\users\\tif-awadh\\downloads\\transformer\\mistral-gpu-env\\lib\\site-packages (from transformers->peft==0.5.0) (0.13.3)\n",
      "Requirement already satisfied: charset_normalizer<4,>=2 in c:\\users\\tif-awadh\\downloads\\transformer\\mistral-gpu-env\\lib\\site-packages (from requests->transformers->peft==0.5.0) (3.4.2)\n",
      "Requirement already satisfied: idna<4,>=2.5 in c:\\users\\tif-awadh\\downloads\\transformer\\mistral-gpu-env\\lib\\site-packages (from requests->transformers->peft==0.5.0) (3.10)\n",
      "Requirement already satisfied: urllib3<3,>=1.21.1 in c:\\users\\tif-awadh\\downloads\\transformer\\mistral-gpu-env\\lib\\site-packages (from requests->transformers->peft==0.5.0) (2.5.0)\n",
      "Requirement already satisfied: certifi>=2017.4.17 in c:\\users\\tif-awadh\\downloads\\transformer\\mistral-gpu-env\\lib\\site-packages (from requests->transformers->peft==0.5.0) (2025.7.14)\n",
      "Downloading peft-0.5.0-py3-none-any.whl (85 kB)\n",
      "Downloading accelerate-0.21.0-py3-none-any.whl (244 kB)\n",
      "Installing collected packages: accelerate, peft\n",
      "\n",
      "  Attempting uninstall: accelerate\n",
      "\n",
      "    Found existing installation: accelerate 0.27.2\n",
      "\n",
      "    Uninstalling accelerate-0.27.2:\n",
      "\n",
      "      Successfully uninstalled accelerate-0.27.2\n",
      "\n",
      "   ---------------------------------------- 0/2 [accelerate]\n",
      "   ---------------------------------------- 0/2 [accelerate]\n",
      "   ---------------------------------------- 0/2 [accelerate]\n",
      "   ---------------------------------------- 0/2 [accelerate]\n",
      "   ---------------------------------------- 0/2 [accelerate]\n",
      "  Attempting uninstall: peft\n",
      "   ---------------------------------------- 0/2 [accelerate]\n",
      "    Found existing installation: peft 0.8.2\n",
      "   ---------------------------------------- 0/2 [accelerate]\n",
      "    Uninstalling peft-0.8.2:\n",
      "   ---------------------------------------- 0/2 [accelerate]\n",
      "      Successfully uninstalled peft-0.8.2\n",
      "   ---------------------------------------- 0/2 [accelerate]\n",
      "   -------------------- ------------------- 1/2 [peft]\n",
      "   ---------------------------------------- 2/2 [peft]\n",
      "\n",
      "Successfully installed accelerate-0.21.0 peft-0.5.0\n"
     ]
    }
   ],
   "source": [
    "!pip install peft==0.5.0 accelerate==0.21.0\n",
    "\n",
    "\n"
   ]
  },
  {
   "cell_type": "code",
   "execution_count": null,
   "id": "8d7f8cc3",
   "metadata": {},
   "outputs": [],
   "source": [
    "from huggingface_hub import login\n",
    "\n",
    "login(\"your-token-here\") "
   ]
  },
  {
   "cell_type": "code",
   "execution_count": 5,
   "id": "24a7d89e",
   "metadata": {},
   "outputs": [
    {
     "name": "stderr",
     "output_type": "stream",
     "text": [
      "c:\\Users\\TIF-AWaDH\\Downloads\\Transformer\\mistral-310\\lib\\site-packages\\huggingface_hub\\file_download.py:943: FutureWarning: `resume_download` is deprecated and will be removed in version 1.0.0. Downloads always resume when possible. If you want to force a new download, use `force_download=True`.\n",
      "  warnings.warn(\n"
     ]
    },
    {
     "ename": "Exception",
     "evalue": "data did not match any variant of untagged enum PyPreTokenizerTypeWrapper at line 40 column 3",
     "output_type": "error",
     "traceback": [
      "\u001b[1;31m---------------------------------------------------------------------------\u001b[0m",
      "\u001b[1;31mException\u001b[0m                                 Traceback (most recent call last)",
      "Cell \u001b[1;32mIn[5], line 8\u001b[0m\n\u001b[0;32m      6\u001b[0m \u001b[38;5;66;03m# 1️⃣  Model + tokenizer (needs Hugging‑Face gated access)\u001b[39;00m\n\u001b[0;32m      7\u001b[0m model_name \u001b[38;5;241m=\u001b[39m \u001b[38;5;124m\"\u001b[39m\u001b[38;5;124mmistralai/Mistral-7B-Instruct-v0.1\u001b[39m\u001b[38;5;124m\"\u001b[39m\n\u001b[1;32m----> 8\u001b[0m tokenizer \u001b[38;5;241m=\u001b[39m \u001b[43mAutoTokenizer\u001b[49m\u001b[38;5;241;43m.\u001b[39;49m\u001b[43mfrom_pretrained\u001b[49m\u001b[43m(\u001b[49m\u001b[43mmodel_name\u001b[49m\u001b[43m,\u001b[49m\u001b[43m \u001b[49m\u001b[43mtrust_remote_code\u001b[49m\u001b[38;5;241;43m=\u001b[39;49m\u001b[38;5;28;43;01mTrue\u001b[39;49;00m\u001b[43m)\u001b[49m\n\u001b[0;32m      9\u001b[0m tokenizer\u001b[38;5;241m.\u001b[39mpad_token \u001b[38;5;241m=\u001b[39m tokenizer\u001b[38;5;241m.\u001b[39meos_token\n\u001b[0;32m     11\u001b[0m model \u001b[38;5;241m=\u001b[39m AutoModelForCausalLM\u001b[38;5;241m.\u001b[39mfrom_pretrained(\n\u001b[0;32m     12\u001b[0m     model_name,\n\u001b[0;32m     13\u001b[0m     load_in_4bit\u001b[38;5;241m=\u001b[39m\u001b[38;5;28;01mTrue\u001b[39;00m,      \u001b[38;5;66;03m# QLoRA\u001b[39;00m\n\u001b[0;32m     14\u001b[0m     device_map\u001b[38;5;241m=\u001b[39m\u001b[38;5;124m\"\u001b[39m\u001b[38;5;124mauto\u001b[39m\u001b[38;5;124m\"\u001b[39m,\n\u001b[0;32m     15\u001b[0m     trust_remote_code\u001b[38;5;241m=\u001b[39m\u001b[38;5;28;01mTrue\u001b[39;00m\n\u001b[0;32m     16\u001b[0m )\n",
      "File \u001b[1;32mc:\\Users\\TIF-AWaDH\\Downloads\\Transformer\\mistral-310\\lib\\site-packages\\transformers\\models\\auto\\tokenization_auto.py:837\u001b[0m, in \u001b[0;36mAutoTokenizer.from_pretrained\u001b[1;34m(cls, pretrained_model_name_or_path, *inputs, **kwargs)\u001b[0m\n\u001b[0;32m    833\u001b[0m     \u001b[38;5;28;01mif\u001b[39;00m tokenizer_class \u001b[38;5;129;01mis\u001b[39;00m \u001b[38;5;28;01mNone\u001b[39;00m:\n\u001b[0;32m    834\u001b[0m         \u001b[38;5;28;01mraise\u001b[39;00m \u001b[38;5;167;01mValueError\u001b[39;00m(\n\u001b[0;32m    835\u001b[0m             \u001b[38;5;124mf\u001b[39m\u001b[38;5;124m\"\u001b[39m\u001b[38;5;124mTokenizer class \u001b[39m\u001b[38;5;132;01m{\u001b[39;00mtokenizer_class_candidate\u001b[38;5;132;01m}\u001b[39;00m\u001b[38;5;124m does not exist or is not currently imported.\u001b[39m\u001b[38;5;124m\"\u001b[39m\n\u001b[0;32m    836\u001b[0m         )\n\u001b[1;32m--> 837\u001b[0m     \u001b[38;5;28;01mreturn\u001b[39;00m tokenizer_class\u001b[38;5;241m.\u001b[39mfrom_pretrained(pretrained_model_name_or_path, \u001b[38;5;241m*\u001b[39minputs, \u001b[38;5;241m*\u001b[39m\u001b[38;5;241m*\u001b[39mkwargs)\n\u001b[0;32m    839\u001b[0m \u001b[38;5;66;03m# Otherwise we have to be creative.\u001b[39;00m\n\u001b[0;32m    840\u001b[0m \u001b[38;5;66;03m# if model is an encoder decoder, the encoder tokenizer class is used by default\u001b[39;00m\n\u001b[0;32m    841\u001b[0m \u001b[38;5;28;01mif\u001b[39;00m \u001b[38;5;28misinstance\u001b[39m(config, EncoderDecoderConfig):\n",
      "File \u001b[1;32mc:\\Users\\TIF-AWaDH\\Downloads\\Transformer\\mistral-310\\lib\\site-packages\\transformers\\tokenization_utils_base.py:2086\u001b[0m, in \u001b[0;36mPreTrainedTokenizerBase.from_pretrained\u001b[1;34m(cls, pretrained_model_name_or_path, cache_dir, force_download, local_files_only, token, revision, trust_remote_code, *init_inputs, **kwargs)\u001b[0m\n\u001b[0;32m   2083\u001b[0m     \u001b[38;5;28;01melse\u001b[39;00m:\n\u001b[0;32m   2084\u001b[0m         logger\u001b[38;5;241m.\u001b[39minfo(\u001b[38;5;124mf\u001b[39m\u001b[38;5;124m\"\u001b[39m\u001b[38;5;124mloading file \u001b[39m\u001b[38;5;132;01m{\u001b[39;00mfile_path\u001b[38;5;132;01m}\u001b[39;00m\u001b[38;5;124m from cache at \u001b[39m\u001b[38;5;132;01m{\u001b[39;00mresolved_vocab_files[file_id]\u001b[38;5;132;01m}\u001b[39;00m\u001b[38;5;124m\"\u001b[39m)\n\u001b[1;32m-> 2086\u001b[0m \u001b[38;5;28;01mreturn\u001b[39;00m \u001b[38;5;28mcls\u001b[39m\u001b[38;5;241m.\u001b[39m_from_pretrained(\n\u001b[0;32m   2087\u001b[0m     resolved_vocab_files,\n\u001b[0;32m   2088\u001b[0m     pretrained_model_name_or_path,\n\u001b[0;32m   2089\u001b[0m     init_configuration,\n\u001b[0;32m   2090\u001b[0m     \u001b[38;5;241m*\u001b[39minit_inputs,\n\u001b[0;32m   2091\u001b[0m     token\u001b[38;5;241m=\u001b[39mtoken,\n\u001b[0;32m   2092\u001b[0m     cache_dir\u001b[38;5;241m=\u001b[39mcache_dir,\n\u001b[0;32m   2093\u001b[0m     local_files_only\u001b[38;5;241m=\u001b[39mlocal_files_only,\n\u001b[0;32m   2094\u001b[0m     _commit_hash\u001b[38;5;241m=\u001b[39mcommit_hash,\n\u001b[0;32m   2095\u001b[0m     _is_local\u001b[38;5;241m=\u001b[39mis_local,\n\u001b[0;32m   2096\u001b[0m     trust_remote_code\u001b[38;5;241m=\u001b[39mtrust_remote_code,\n\u001b[0;32m   2097\u001b[0m     \u001b[38;5;241m*\u001b[39m\u001b[38;5;241m*\u001b[39mkwargs,\n\u001b[0;32m   2098\u001b[0m )\n",
      "File \u001b[1;32mc:\\Users\\TIF-AWaDH\\Downloads\\Transformer\\mistral-310\\lib\\site-packages\\transformers\\tokenization_utils_base.py:2325\u001b[0m, in \u001b[0;36mPreTrainedTokenizerBase._from_pretrained\u001b[1;34m(cls, resolved_vocab_files, pretrained_model_name_or_path, init_configuration, token, cache_dir, local_files_only, _commit_hash, _is_local, trust_remote_code, *init_inputs, **kwargs)\u001b[0m\n\u001b[0;32m   2323\u001b[0m \u001b[38;5;66;03m# Instantiate the tokenizer.\u001b[39;00m\n\u001b[0;32m   2324\u001b[0m \u001b[38;5;28;01mtry\u001b[39;00m:\n\u001b[1;32m-> 2325\u001b[0m     tokenizer \u001b[38;5;241m=\u001b[39m \u001b[38;5;28mcls\u001b[39m(\u001b[38;5;241m*\u001b[39minit_inputs, \u001b[38;5;241m*\u001b[39m\u001b[38;5;241m*\u001b[39minit_kwargs)\n\u001b[0;32m   2326\u001b[0m \u001b[38;5;28;01mexcept\u001b[39;00m \u001b[38;5;167;01mOSError\u001b[39;00m:\n\u001b[0;32m   2327\u001b[0m     \u001b[38;5;28;01mraise\u001b[39;00m \u001b[38;5;167;01mOSError\u001b[39;00m(\n\u001b[0;32m   2328\u001b[0m         \u001b[38;5;124m\"\u001b[39m\u001b[38;5;124mUnable to load vocabulary from file. \u001b[39m\u001b[38;5;124m\"\u001b[39m\n\u001b[0;32m   2329\u001b[0m         \u001b[38;5;124m\"\u001b[39m\u001b[38;5;124mPlease check that the provided vocabulary is accessible and not corrupted.\u001b[39m\u001b[38;5;124m\"\u001b[39m\n\u001b[0;32m   2330\u001b[0m     )\n",
      "File \u001b[1;32mc:\\Users\\TIF-AWaDH\\Downloads\\Transformer\\mistral-310\\lib\\site-packages\\transformers\\models\\llama\\tokenization_llama_fast.py:133\u001b[0m, in \u001b[0;36mLlamaTokenizerFast.__init__\u001b[1;34m(self, vocab_file, tokenizer_file, clean_up_tokenization_spaces, unk_token, bos_token, eos_token, add_bos_token, add_eos_token, use_default_system_prompt, add_prefix_space, **kwargs)\u001b[0m\n\u001b[0;32m    128\u001b[0m     logger\u001b[38;5;241m.\u001b[39mwarning_once(\n\u001b[0;32m    129\u001b[0m         \u001b[38;5;124m\"\u001b[39m\u001b[38;5;124mYou set `add_prefix_space`. The tokenizer needs to be converted from the slow tokenizers\u001b[39m\u001b[38;5;124m\"\u001b[39m\n\u001b[0;32m    130\u001b[0m     )\n\u001b[0;32m    131\u001b[0m     kwargs[\u001b[38;5;124m\"\u001b[39m\u001b[38;5;124mfrom_slow\u001b[39m\u001b[38;5;124m\"\u001b[39m] \u001b[38;5;241m=\u001b[39m \u001b[38;5;28;01mTrue\u001b[39;00m\n\u001b[1;32m--> 133\u001b[0m \u001b[38;5;28msuper\u001b[39m()\u001b[38;5;241m.\u001b[39m\u001b[38;5;21m__init__\u001b[39m(\n\u001b[0;32m    134\u001b[0m     vocab_file\u001b[38;5;241m=\u001b[39mvocab_file,\n\u001b[0;32m    135\u001b[0m     tokenizer_file\u001b[38;5;241m=\u001b[39mtokenizer_file,\n\u001b[0;32m    136\u001b[0m     clean_up_tokenization_spaces\u001b[38;5;241m=\u001b[39mclean_up_tokenization_spaces,\n\u001b[0;32m    137\u001b[0m     unk_token\u001b[38;5;241m=\u001b[39munk_token,\n\u001b[0;32m    138\u001b[0m     bos_token\u001b[38;5;241m=\u001b[39mbos_token,\n\u001b[0;32m    139\u001b[0m     eos_token\u001b[38;5;241m=\u001b[39meos_token,\n\u001b[0;32m    140\u001b[0m     add_bos_token\u001b[38;5;241m=\u001b[39madd_bos_token,\n\u001b[0;32m    141\u001b[0m     add_eos_token\u001b[38;5;241m=\u001b[39madd_eos_token,\n\u001b[0;32m    142\u001b[0m     use_default_system_prompt\u001b[38;5;241m=\u001b[39muse_default_system_prompt,\n\u001b[0;32m    143\u001b[0m     \u001b[38;5;241m*\u001b[39m\u001b[38;5;241m*\u001b[39mkwargs,\n\u001b[0;32m    144\u001b[0m )\n\u001b[0;32m    145\u001b[0m \u001b[38;5;28mself\u001b[39m\u001b[38;5;241m.\u001b[39m_add_bos_token \u001b[38;5;241m=\u001b[39m add_bos_token\n\u001b[0;32m    146\u001b[0m \u001b[38;5;28mself\u001b[39m\u001b[38;5;241m.\u001b[39m_add_eos_token \u001b[38;5;241m=\u001b[39m add_eos_token\n",
      "File \u001b[1;32mc:\\Users\\TIF-AWaDH\\Downloads\\Transformer\\mistral-310\\lib\\site-packages\\transformers\\tokenization_utils_fast.py:111\u001b[0m, in \u001b[0;36mPreTrainedTokenizerFast.__init__\u001b[1;34m(self, *args, **kwargs)\u001b[0m\n\u001b[0;32m    108\u001b[0m     fast_tokenizer \u001b[38;5;241m=\u001b[39m copy\u001b[38;5;241m.\u001b[39mdeepcopy(tokenizer_object)\n\u001b[0;32m    109\u001b[0m \u001b[38;5;28;01melif\u001b[39;00m fast_tokenizer_file \u001b[38;5;129;01mis\u001b[39;00m \u001b[38;5;129;01mnot\u001b[39;00m \u001b[38;5;28;01mNone\u001b[39;00m \u001b[38;5;129;01mand\u001b[39;00m \u001b[38;5;129;01mnot\u001b[39;00m from_slow:\n\u001b[0;32m    110\u001b[0m     \u001b[38;5;66;03m# We have a serialization from tokenizers which let us directly build the backend\u001b[39;00m\n\u001b[1;32m--> 111\u001b[0m     fast_tokenizer \u001b[38;5;241m=\u001b[39m \u001b[43mTokenizerFast\u001b[49m\u001b[38;5;241;43m.\u001b[39;49m\u001b[43mfrom_file\u001b[49m\u001b[43m(\u001b[49m\u001b[43mfast_tokenizer_file\u001b[49m\u001b[43m)\u001b[49m\n\u001b[0;32m    112\u001b[0m \u001b[38;5;28;01melif\u001b[39;00m slow_tokenizer \u001b[38;5;129;01mis\u001b[39;00m \u001b[38;5;129;01mnot\u001b[39;00m \u001b[38;5;28;01mNone\u001b[39;00m:\n\u001b[0;32m    113\u001b[0m     \u001b[38;5;66;03m# We need to convert a slow tokenizer to build the backend\u001b[39;00m\n\u001b[0;32m    114\u001b[0m     fast_tokenizer \u001b[38;5;241m=\u001b[39m convert_slow_tokenizer(slow_tokenizer)\n",
      "\u001b[1;31mException\u001b[0m: data did not match any variant of untagged enum PyPreTokenizerTypeWrapper at line 40 column 3"
     ]
    }
   ],
   "source": [
    "from transformers import AutoTokenizer, AutoModelForCausalLM, TrainingArguments\n",
    "from peft import LoraConfig, get_peft_model, TaskType\n",
    "from trl import SFTTrainer\n",
    "from datasets import load_dataset\n",
    "\n",
    "# 1️⃣  Model + tokenizer (needs Hugging‑Face gated access)\n",
    "model_name = \"mistralai/Mistral-7B-Instruct-v0.1\"\n",
    "tokenizer = AutoTokenizer.from_pretrained(model_name, trust_remote_code=True)\n",
    "tokenizer.pad_token = tokenizer.eos_token\n",
    "\n",
    "model = AutoModelForCausalLM.from_pretrained(\n",
    "    model_name,\n",
    "    load_in_4bit=True,      # QLoRA\n",
    "    device_map=\"auto\",\n",
    "    trust_remote_code=True\n",
    ")\n",
    "\n",
    "# 2️⃣  LoRA config\n",
    "lora_cfg = LoraConfig(\n",
    "    r=8,\n",
    "    lora_alpha=32,\n",
    "    lora_dropout=0.05,\n",
    "    target_modules=[\"q_proj\", \"k_proj\", \"v_proj\", \"o_proj\"],\n",
    "    bias=\"none\",\n",
    "    task_type=TaskType.CAUSAL_LM,\n",
    ")\n",
    "model = get_peft_model(model, lora_cfg)\n",
    "\n",
    "# 3️⃣  Tiny sample dataset (replace with your own)\n",
    "dataset = load_dataset(\"Abirate/english_quotes\", split=\"train[:200]\")\n",
    "dataset = dataset.map(lambda e: {\n",
    "    \"text\": f\"### Instruction:\\nGenerate a quote.\\n\\n### Response:\\n{e['quote']}\"\n",
    "})\n",
    "\n",
    "# 4️⃣  TrainingArguments\n",
    "args = TrainingArguments(\n",
    "    output_dir=\"./mistral-lora-output\",\n",
    "    per_device_train_batch_size=1,\n",
    "    gradient_accumulation_steps=4,\n",
    "    learning_rate=2e-4,\n",
    "    num_train_epochs=1,\n",
    "    logging_steps=10,\n",
    "    fp16=True,                # RTX 3090 supports FP16\n",
    "    save_strategy=\"epoch\",\n",
    "    save_total_limit=2,\n",
    "    report_to=\"none\",\n",
    "    remove_unused_columns=False,\n",
    ")\n",
    "\n",
    "# 5️⃣  Trainer\n",
    "trainer = SFTTrainer(\n",
    "    model=model,\n",
    "    tokenizer=tokenizer,\n",
    "    train_dataset=dataset,\n",
    "    dataset_text_field=\"text\",\n",
    "    args=args,\n",
    ")\n",
    "\n",
    "trainer.train()\n",
    "\n",
    "# 6️⃣  Save LoRA adapters\n",
    "trainer.model.save_pretrained(\"mistral-lora-checkpoint\")\n",
    "tokenizer.save_pretrained(\"mistral-lora-checkpoint\")\n"
   ]
  },
  {
   "cell_type": "code",
   "execution_count": null,
   "id": "3c286043",
   "metadata": {},
   "outputs": [
    {
     "name": "stderr",
     "output_type": "stream",
     "text": [
      "c:\\Users\\TIF-AWaDH\\Downloads\\Transformer\\mistral-310\\lib\\site-packages\\tqdm\\auto.py:21: TqdmWarning: IProgress not found. Please update jupyter and ipywidgets. See https://ipywidgets.readthedocs.io/en/stable/user_install.html\n",
      "  from .autonotebook import tqdm as notebook_tqdm\n",
      "Fetching 15 files:  33%|███▎      | 5/15 [00:27<00:55,  5.54s/it]"
     ]
    }
   ],
   "source": [
    "from transformers.utils import cached_file\n",
    "from huggingface_hub import snapshot_download\n",
    "snapshot_download(\"mistralai/Mistral-7B-Instruct-v0.1\", local_dir=\"./hf_cache\")\n",
    "\n",
    "# Force re-download\n",
    "# snapshot_download(\"mistralai/Mistral-7B-Instruct-v0.1\", local_dir=\"./hf_cache\", force_download=True)\n"
   ]
  },
  {
   "cell_type": "code",
   "execution_count": 4,
   "id": "204c32ab",
   "metadata": {},
   "outputs": [
    {
     "name": "stdout",
     "output_type": "stream",
     "text": [
      "{'type': 'user', 'id': '6874ed445060681881c737ad', 'name': 'Vanshika1108', 'fullname': 'Vanshika Sharma', 'email': 'vansharidhi1975@gmail.com', 'emailVerified': True, 'canPay': False, 'periodEnd': None, 'isPro': False, 'avatarUrl': 'https://cdn-avatars.huggingface.co/v1/production/uploads/no-auth/os0kz25n3Bw5N77fPYI8w.png', 'orgs': [], 'auth': {'type': 'access_token', 'accessToken': {'displayName': 'mistral-7B', 'role': 'read', 'createdAt': '2025-07-14T11:50:21.940Z'}}}\n"
     ]
    }
   ],
   "source": [
    "from huggingface_hub import whoami\n",
    "print(whoami())\n"
   ]
  },
  {
   "cell_type": "code",
   "execution_count": null,
   "id": "c0913491",
   "metadata": {},
   "outputs": [],
   "source": [
    "from datasets import load_dataset\n",
    "\n",
    "dataset = load_dataset(\"Abirate/english_quotes\", split=\"train[:200]\")\n",
    "\n",
    "dataset = dataset.map(lambda e: {\n",
    "    \"text\": f\"### Instruction:\\nGenerate a quote.\\n\\n### Response:\\n{e['quote']}\"\n",
    "}).remove_columns([\"quote\", \"author\", \"tags\"])\n"
   ]
  },
  {
   "cell_type": "code",
   "execution_count": 4,
   "id": "7fe6d679",
   "metadata": {},
   "outputs": [],
   "source": [
    "from datasets import load_dataset\n",
    "\n",
    "dataset = load_dataset(\"Abirate/english_quotes\", split=\"train[:200]\")\n",
    "\n",
    "dataset = dataset.map(lambda e: {\n",
    "    \"text\": f\"### Instruction:\\nGenerate a quote.\\n\\n### Response:\\n{e['quote']}\"\n",
    "}).remove_columns([\"quote\", \"author\", \"tags\"])\n"
   ]
  },
  {
   "cell_type": "code",
   "execution_count": 14,
   "id": "980fd32d",
   "metadata": {},
   "outputs": [
    {
     "name": "stderr",
     "output_type": "stream",
     "text": [
      "\n",
      "\n",
      "Generating train split: 7 examples [00:00, 625.66 examples/s]\n",
      "  0%|          | 0/25 [16:03<?, ?it/s]\n",
      "  0%|          | 0/50 [02:23<?, ?it/s]\n",
      "c:\\Users\\TIF-AWaDH\\Downloads\\Transformer\\mistral-310\\lib\\site-packages\\huggingface_hub\\file_download.py:943: FutureWarning: `resume_download` is deprecated and will be removed in version 1.0.0. Downloads always resume when possible. If you want to force a new download, use `force_download=True`.\n",
      "  warnings.warn(\n",
      "c:\\Users\\TIF-AWaDH\\Downloads\\Transformer\\mistral-310\\lib\\site-packages\\huggingface_hub\\file_download.py:943: FutureWarning: `resume_download` is deprecated and will be removed in version 1.0.0. Downloads always resume when possible. If you want to force a new download, use `force_download=True`.\n",
      "  warnings.warn(\n",
      "                                      \n",
      "100%|██████████| 3/3 [00:06<00:00,  2.31s/it]\n"
     ]
    },
    {
     "name": "stdout",
     "output_type": "stream",
     "text": [
      "{'train_runtime': 6.9219, 'train_samples_per_second': 3.034, 'train_steps_per_second': 0.433, 'train_loss': 1.772229830423991, 'epoch': 3.0}\n"
     ]
    },
    {
     "name": "stderr",
     "output_type": "stream",
     "text": [
      "c:\\Users\\TIF-AWaDH\\Downloads\\Transformer\\mistral-310\\lib\\site-packages\\huggingface_hub\\file_download.py:943: FutureWarning: `resume_download` is deprecated and will be removed in version 1.0.0. Downloads always resume when possible. If you want to force a new download, use `force_download=True`.\n",
      "  warnings.warn(\n"
     ]
    },
    {
     "data": {
      "text/plain": [
       "('tinyllama-lora-checkpoint\\\\tokenizer_config.json',\n",
       " 'tinyllama-lora-checkpoint\\\\special_tokens_map.json',\n",
       " 'tinyllama-lora-checkpoint\\\\tokenizer.json')"
      ]
     },
     "execution_count": 14,
     "metadata": {},
     "output_type": "execute_result"
    }
   ],
   "source": [
    "from transformers import AutoTokenizer, AutoModelForCausalLM, TrainingArguments\n",
    "from peft import get_peft_model, LoraConfig, TaskType\n",
    "from datasets import load_dataset\n",
    "from trl import SFTTrainer\n",
    "\n",
    "# 1️⃣ Load tokenizer and base model (no quantization)\n",
    "base_model_name = \"TinyLlama/TinyLlama-1.1B-Chat-v1.0\"\n",
    "tokenizer = AutoTokenizer.from_pretrained(base_model_name)\n",
    "tokenizer.pad_token = tokenizer.eos_token\n",
    "\n",
    "model = AutoModelForCausalLM.from_pretrained(base_model_name)\n",
    "\n",
    "# 2️⃣ LoRA Configuration\n",
    "lora_config = LoraConfig(\n",
    "    r=8,\n",
    "    lora_alpha=32,\n",
    "    target_modules=[\"q_proj\", \"k_proj\", \"v_proj\", \"o_proj\"],\n",
    "    lora_dropout=0.05,\n",
    "    bias=\"none\",\n",
    "    task_type=TaskType.CAUSAL_LM\n",
    ")\n",
    "model = get_peft_model(model, lora_config)\n",
    "\n",
    "# 3️⃣ Load Dataset\n",
    "dataset = load_dataset(\"Abirate/english_quotes\", split=\"train[:200]\")  # or your own\n",
    "\n",
    "# 4️⃣ Format & Tokenize\n",
    "def format(example):\n",
    "    return {\"text\": example[\"quote\"]}\n",
    "\n",
    "dataset = dataset.map(format)\n",
    "\n",
    "# Pack sequences for efficient training\n",
    "training_args = TrainingArguments(\n",
    "    output_dir=\"./tinyllama-lora-output\",\n",
    "    per_device_train_batch_size=2,\n",
    "    gradient_accumulation_steps=4,\n",
    "    num_train_epochs=3,\n",
    "    logging_steps=10,\n",
    "    save_strategy=\"epoch\",\n",
    "    learning_rate=2e-4,\n",
    "    fp16=True,  # ✅ Important since you're using RTX 3090\n",
    "    report_to=\"none\"\n",
    ")\n",
    "\n",
    "# 5️⃣ Train\n",
    "trainer = SFTTrainer(\n",
    "    model=model,\n",
    "    tokenizer=tokenizer,\n",
    "    train_dataset=dataset,\n",
    "    args=training_args,\n",
    "    packing=True,  # ✅ to auto-handle input formatting and padding\n",
    "    dataset_text_field=\"text\"\n",
    ")\n",
    "\n",
    "trainer.train()\n",
    "\n",
    "# 6️⃣ Save LoRA adapter and tokenizer\n",
    "trainer.model.save_pretrained(\"tinyllama-lora-checkpoint\")\n",
    "tokenizer.save_pretrained(\"tinyllama-lora-checkpoint\")\n"
   ]
  },
  {
   "cell_type": "code",
   "execution_count": 15,
   "id": "5ee87da4",
   "metadata": {},
   "outputs": [
    {
     "data": {
      "text/plain": [
       "('tinyllama-lora-checkpoint\\\\tokenizer_config.json',\n",
       " 'tinyllama-lora-checkpoint\\\\special_tokens_map.json',\n",
       " 'tinyllama-lora-checkpoint\\\\tokenizer.json')"
      ]
     },
     "execution_count": 15,
     "metadata": {},
     "output_type": "execute_result"
    }
   ],
   "source": [
    "trainer.model.save_pretrained(\"tinyllama-lora-checkpoint\")\n",
    "tokenizer.save_pretrained(\"tinyllama-lora-checkpoint\")\n"
   ]
  },
  {
   "cell_type": "code",
   "execution_count": 16,
   "id": "d743e2ab",
   "metadata": {},
   "outputs": [],
   "source": [
    "from transformers import AutoModelForCausalLM, AutoTokenizer\n",
    "\n",
    "model = AutoModelForCausalLM.from_pretrained(\"tinyllama-lora-checkpoint\")\n",
    "tokenizer = AutoTokenizer.from_pretrained(\"tinyllama-lora-checkpoint\")\n"
   ]
  },
  {
   "cell_type": "code",
   "execution_count": 18,
   "id": "ce349c7f",
   "metadata": {},
   "outputs": [
    {
     "name": "stdout",
     "output_type": "stream",
     "text": [
      "What do you do?\n",
      "\n",
      "JASON: (smiling) I'm a writer.\n",
      "\n",
      "SARAH: (smiling back) I'm a photographer.\n",
      "\n",
      "JASON: (laughing) You're both very\n"
     ]
    }
   ],
   "source": [
    "inputs = tokenizer(\"What do you do?\", return_tensors=\"pt\").to(model.device)\n",
    "outputs = model.generate(**inputs, max_new_tokens=50)\n",
    "print(tokenizer.decode(outputs[0], skip_special_tokens=True))\n"
   ]
  },
  {
   "cell_type": "code",
   "execution_count": null,
   "id": "0c077185",
   "metadata": {},
   "outputs": [],
   "source": []
  },
  {
   "cell_type": "code",
   "execution_count": 13,
   "id": "b3a5fbf8",
   "metadata": {},
   "outputs": [
    {
     "name": "stderr",
     "output_type": "stream",
     "text": [
      "WARNING: Skipping bitsandbytes as it is not installed.\n"
     ]
    }
   ],
   "source": [
    "!pip uninstall bitsandbytes\n"
   ]
  },
  {
   "cell_type": "code",
   "execution_count": 10,
   "id": "89a3adb0",
   "metadata": {},
   "outputs": [
    {
     "name": "stdout",
     "output_type": "stream",
     "text": [
      "Hello! Can you help me?\n"
     ]
    }
   ],
   "source": [
    "from transformers import AutoTokenizer, AutoModelForCausalLM\n",
    "import torch\n",
    "\n",
    "model_name = \"TinyLlama/TinyLlama-1.1B-Chat-v1.0\"\n",
    "\n",
    "tokenizer = AutoTokenizer.from_pretrained(model_name)\n",
    "model = AutoModelForCausalLM.from_pretrained(\n",
    "    model_name,\n",
    "    device_map=\"auto\",  # uses GPU\n",
    "    torch_dtype=torch.float16  # instead of 4-bit quantization\n",
    ")\n",
    "\n",
    "inputs = tokenizer(\"Hello! Can you help me?\", return_tensors=\"pt\").to(\"cuda\")\n",
    "\n",
    "with torch.no_grad():\n",
    "    outputs = model.generate(**inputs, max_new_tokens=30)\n",
    "\n",
    "print(tokenizer.decode(outputs[0], skip_special_tokens=True))\n"
   ]
  },
  {
   "cell_type": "code",
   "execution_count": 6,
   "id": "19876038",
   "metadata": {},
   "outputs": [
    {
     "name": "stdout",
     "output_type": "stream",
     "text": [
      "CUDA available: True\n",
      "GPU name: NVIDIA GeForce RTX 3090\n",
      "Torch device: cuda\n"
     ]
    }
   ],
   "source": [
    "import torch\n",
    "print(\"CUDA available:\", torch.cuda.is_available())\n",
    "print(\"GPU name:\", torch.cuda.get_device_name(0))\n",
    "print(\"Torch device:\", torch.device(\"cuda\" if torch.cuda.is_available() else \"cpu\"))\n"
   ]
  }
 ],
 "metadata": {
  "kernelspec": {
   "display_name": "Python (mistral-310)",
   "language": "python",
   "name": "mistral-310"
  },
  "language_info": {
   "codemirror_mode": {
    "name": "ipython",
    "version": 3
   },
   "file_extension": ".py",
   "mimetype": "text/x-python",
   "name": "python",
   "nbconvert_exporter": "python",
   "pygments_lexer": "ipython3",
   "version": "3.10.0"
  }
 },
 "nbformat": 4,
 "nbformat_minor": 5
}
